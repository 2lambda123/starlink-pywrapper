{
 "cells": [
  {
   "cell_type": "markdown",
   "metadata": {
    "deletable": true,
    "editable": true
   },
   "source": [
    "# Starlink-pywrapper.\n",
    "\n",
    "The starlink-pywrapper package allows the calling of starlink command line tools in a pythonic way, and easy scripting using Starlink commands. Inside, it calls Starlink commands with subprocess, after setting up all of the environmental variables required. It also will read the output parameters from the $ADAM_DIR .sdf files and pack those up into a named tuple which is returned to the user. Please note that it is only running the Starlink tasks as external commands, so for those commands which produce a new file it will return the name of that file (along with any other output parameters).\n",
    "\n",
    "## Dependencies\n",
    "This package depends on the starlink-pyndf module to read the HDS files which hold the output of Starlinlk commands. This is unfortunately not available through PyPi (e.g. pip) currently, but can be downloaded and installed from:  https://github.com/timj/starlink-pyndf (installation instructions found at that site). Please note that a normal install of this will require you to set the LD_LIBRARY_PATH (Linux) or DYLD_LIBRARY_PATH (OSX) environmental variable to $STARLINK_DIR/lib .\n",
    "\n",
    "This package also requires a working Starlink installation, which should be the same version of Starlink as that used to generate the module files inside the package (kappa.py etc.). If you have the environmental variable $STARLINK_DIR set to the location of your Starlink install before you run the package, then it will find Starlink automatically. If it does not, you can use the starlink.wrapper.change_starpath command to set the Starlink location after you have imported the package.\n",
    "\n",
    "## Overview\n",
    "The main Starlink command-packages supported are those used for analysis and data reduction of current JCMT instrumentation: KAPPA, SMURF, ATOOLS, Polpack, CUPID and CONVERT. There is also support for running ORAC-DR and PICARD recipes. \n",
    "\n",
    " \n",
    "## Getting started\n",
    " \n",
    "First we need to setup logging: this package uses the standard python logger to give information about our commands.\n",
    " "
   ]
  },
  {
   "cell_type": "code",
   "execution_count": 1,
   "metadata": {
    "collapsed": true,
    "deletable": true,
    "editable": true
   },
   "outputs": [],
   "source": [
    "import logging"
   ]
  },
  {
   "cell_type": "code",
   "execution_count": 2,
   "metadata": {
    "collapsed": true,
    "deletable": true,
    "editable": true
   },
   "outputs": [],
   "source": [
    "logging.basicConfig(level=logging.INFO)"
   ]
  },
  {
   "cell_type": "markdown",
   "metadata": {
    "deletable": true,
    "editable": true
   },
   "source": [
    "Now we can import the KAPPA wrapping module (starlink.kappa)"
   ]
  },
  {
   "cell_type": "code",
   "execution_count": 3,
   "metadata": {
    "collapsed": false,
    "deletable": true,
    "editable": true
   },
   "outputs": [
    {
     "name": "stderr",
     "output_type": "stream",
     "text": [
      "INFO:starlink.wrapper:Using $STARLINK_DIR starlink at /star\n"
     ]
    }
   ],
   "source": [
    "from starlink import kappa"
   ]
  },
  {
   "cell_type": "markdown",
   "metadata": {
    "deletable": true,
    "editable": true
   },
   "source": [
    "The ```INFO:``` line of output above comes from the standard logger, and is showing us which STARLINK_DIR is being used. \n",
    "\n",
    "Now we can run commands from Starlink's KAPPA package like so:"
   ]
  },
  {
   "cell_type": "code",
   "execution_count": 4,
   "metadata": {
    "collapsed": false,
    "deletable": true,
    "editable": true
   },
   "outputs": [],
   "source": [
    "statresults = kappa.stats('/home/sgraves/mask_trim.sdf')"
   ]
  },
  {
   "cell_type": "markdown",
   "metadata": {
    "deletable": true,
    "editable": true
   },
   "source": [
    "The variable ```statresults``` returned from ```kappa.stats``` is a ```namedtuple``` object. You access its attributes by ```variable.<attribute>```."
   ]
  },
  {
   "cell_type": "code",
   "execution_count": 5,
   "metadata": {
    "collapsed": false,
    "deletable": true,
    "editable": true
   },
   "outputs": [
    {
     "data": {
      "text/plain": [
       "    comp    b'DATA'\n",
       "kurtosis    14.2191822912\n",
       "   sigma    6.9888303341\n",
       "maxcoord    [ -1.33963267e+00   2.05092512e-02   3.52668762e+02]\n",
       " minimum    1.0\n",
       " maximum    47.0\n",
       "    mean    3.57111682266\n",
       "  minpos    [54760 56801     1]\n",
       "  minwcs    b'18:53:35.1, 1:11:23, 352.6688'\n",
       " numgood    20621\n",
       "  numbad    547814\n",
       "     ndf    b'/home/sgraves/mask_trim.sdf'\n",
       "   total    73640.0\n",
       "  numpix    568435\n",
       "skewness    3.63018502818\n",
       "   order    0\n",
       "mincoord    [ -1.33698416e+00   2.07636185e-02   3.52668762e+02]\n",
       "  maxwcs    b'18:52:58.7, 1:10:30, 352.6688'\n",
       "  maxpos    [54883 56899     1]"
      ]
     },
     "execution_count": 5,
     "metadata": {},
     "output_type": "execute_result"
    }
   ],
   "source": [
    "statresults"
   ]
  },
  {
   "cell_type": "code",
   "execution_count": 6,
   "metadata": {
    "collapsed": false,
    "deletable": true,
    "editable": true,
    "scrolled": true
   },
   "outputs": [
    {
     "data": {
      "text/plain": [
       "3.5711168226565015"
      ]
     },
     "execution_count": 6,
     "metadata": {},
     "output_type": "execute_result"
    }
   ],
   "source": [
    "statresults.mean"
   ]
  },
  {
   "cell_type": "markdown",
   "metadata": {
    "deletable": true,
    "editable": true
   },
   "source": [
    "If you need to programatically see all the fields in a results, you can look at the ```_fields``` attribute, which is a list of all the fields in the namedtuple."
   ]
  },
  {
   "cell_type": "code",
   "execution_count": 7,
   "metadata": {
    "collapsed": false,
    "deletable": true,
    "editable": true
   },
   "outputs": [
    {
     "data": {
      "text/plain": [
       "('comp',\n",
       " 'kurtosis',\n",
       " 'sigma',\n",
       " 'maxcoord',\n",
       " 'minimum',\n",
       " 'maximum',\n",
       " 'mean',\n",
       " 'minpos',\n",
       " 'minwcs',\n",
       " 'numgood',\n",
       " 'numbad',\n",
       " 'ndf',\n",
       " 'total',\n",
       " 'numpix',\n",
       " 'skewness',\n",
       " 'order',\n",
       " 'mincoord',\n",
       " 'maxwcs',\n",
       " 'maxpos')"
      ]
     },
     "execution_count": 7,
     "metadata": {},
     "output_type": "execute_result"
    }
   ],
   "source": [
    "statresults._fields"
   ]
  },
  {
   "cell_type": "markdown",
   "metadata": {
    "deletable": true,
    "editable": true
   },
   "source": [
    "## Getting help\n",
    "\n",
    "If we can't remember which Starlink we are running, we can check by looking at:"
   ]
  },
  {
   "cell_type": "code",
   "execution_count": 8,
   "metadata": {
    "collapsed": false,
    "deletable": true,
    "editable": true
   },
   "outputs": [
    {
     "data": {
      "text/plain": [
       "'/star'"
      ]
     },
     "execution_count": 8,
     "metadata": {},
     "output_type": "execute_result"
    }
   ],
   "source": [
    "kappa.wrapper.starpath"
   ]
  },
  {
   "cell_type": "markdown",
   "metadata": {
    "deletable": true,
    "editable": true
   },
   "source": [
    "If you need to look at the call signature and parameter info of a command, you can use the standard help() function."
   ]
  },
  {
   "cell_type": "code",
   "execution_count": 9,
   "metadata": {
    "collapsed": false,
    "deletable": true,
    "editable": true
   },
   "outputs": [
    {
     "name": "stdout",
     "output_type": "stream",
     "text": [
      "Help on function stats in module starlink.kappa:\n",
      "\n",
      "stats(ndf, **kwargs)\n",
      "    Computes simple statistics for an NDF's pixels.\n",
      "    \n",
      "    Runs the command: $KAPPA_DIR/stats .\n",
      "    \n",
      "    Arguments\n",
      "    ---------\n",
      "    ndf : str,filename\n",
      "        Data structure to analyse\n",
      "    \n",
      "    \n",
      "    Keyword Arguments\n",
      "    -----------------\n",
      "    comp : str\n",
      "        NDF array component to analyse [\"Data\"]\n",
      "    \n",
      "    clip : List[float]\n",
      "        Clipping levels [!]\n",
      "    \n",
      "    logfile : str,filename\n",
      "        File for logging results [!]\n",
      "    \n",
      "    order : bool\n",
      "        Report order statistics? [FALSE]\n",
      "    \n",
      "    percentiles : List[float]\n",
      "        List of percentiles [!]\n",
      "    \n",
      "    \n",
      "    Returns\n",
      "    -------\n",
      "    kurtosis : float\n",
      "    \n",
      "    maxcoord : List[float]\n",
      "    \n",
      "    maximum : float\n",
      "    \n",
      "    maxpos : List[int]\n",
      "    \n",
      "    maxwcs : str\n",
      "    \n",
      "    mean : float\n",
      "    \n",
      "    median : float\n",
      "    \n",
      "    mincoord : List[float]\n",
      "    \n",
      "    minimum : float\n",
      "    \n",
      "    minpos : List[int]\n",
      "    \n",
      "    minwcs : str\n",
      "    \n",
      "    numbad : int\n",
      "    \n",
      "    numgood : int\n",
      "    \n",
      "    numpix : int\n",
      "    \n",
      "    perval : List[float]\n",
      "    \n",
      "    sigma : float\n",
      "    \n",
      "    skewness : float\n",
      "    \n",
      "    total : float\n",
      "    \n",
      "    \n",
      "    Notes\n",
      "    -----\n",
      "    See http://www.starlink.ac.uk/cgi-bin/htxserver/sun95.htx/sun95.html?xref_STATS\n",
      "    for full documentation of this command in the latest Starlink release\n",
      "\n"
     ]
    }
   ],
   "source": [
    "help(kappa.stats)"
   ]
  },
  {
   "cell_type": "markdown",
   "metadata": {
    "deletable": true,
    "editable": true
   },
   "source": [
    "Note that at the bottom it provides a link to the web documentation for that command. Alternatively, you can look at the SUNs and commandline help that come with your Starlink installation.\n",
    "\n",
    "There's also a special utilities module which contains a ```starhelp``` command which for modules will show you the listing of commands and their purpose for that module, or for commands will show you the full (often extremely long) RST formatted version of the original Starlink help for that command. This is shown below for the CUPID package (which doesn't have very many commands.)"
   ]
  },
  {
   "cell_type": "code",
   "execution_count": 9,
   "metadata": {
    "collapsed": true,
    "deletable": true,
    "editable": true
   },
   "outputs": [],
   "source": [
    "from starlink import utilities, cupid"
   ]
  },
  {
   "cell_type": "code",
   "execution_count": 10,
   "metadata": {
    "collapsed": false,
    "deletable": true,
    "editable": true
   },
   "outputs": [
    {
     "name": "stdout",
     "output_type": "stream",
     "text": [
      "clumpinfo     :     Obtain information about one or more previously identified clumps.\n",
      "cupidhelp     :     Display information about CUPID.\n",
      "extractclumps :     Extract previously identified clumps of emission from an NDF.\n",
      "findback      :     Estimate the background in an NDF by removing small scale structure.\n",
      "findclumps    :     Identify clumps of emission within a 1, 2 or 3 dimensional NDF.\n",
      "makeclumps    :     Create simulated data containing clumps and noise.\n",
      "outlineclump  :     Draw an outline around a 2-dimensional clump identified by CUPID."
     ]
    }
   ],
   "source": [
    "utilities.starhelp(cupid)"
   ]
  },
  {
   "cell_type": "code",
   "execution_count": 12,
   "metadata": {
    "collapsed": false,
    "deletable": true,
    "editable": true
   },
   "outputs": [
    {
     "name": "stdout",
     "output_type": "stream",
     "text": [
      "\n",
      "\n",
      "CLUMPINFO\n",
      "=========\n",
      "\n",
      "\n",
      "Purpose\n",
      "~~~~~~~\n",
      "Obtain information about one or more previously identified clumps\n",
      "\n",
      "\n",
      "Description\n",
      "~~~~~~~~~~~\n",
      "This application returns various items of information about a single\n",
      "clump, or a collection of clumps, previously identified using\n",
      "FINDCLUMPS or EXTRACTCLUMPS.\n",
      "\n",
      "\n",
      "Usage\n",
      "~~~~~\n",
      "\n",
      "\n",
      "::\n",
      "\n",
      "    \n",
      "       clumpinfo ndf clumps quiet\n",
      "       \n",
      "\n",
      "\n",
      "\n",
      "ADAM parameters\n",
      "~~~~~~~~~~~~~~~\n",
      "\n",
      "\n",
      "\n",
      "CLUMPS = LITERAL (Read)\n",
      "```````````````````````\n",
      "Specifies the indices of the clumps to be included in the returned\n",
      "information. It can take any of the following values:\n",
      "\n",
      "\n",
      "+ \"ALL\" or \"*\" -- All clumps.\n",
      "+ \"xx,yy,zz\" -- A list of clump indices.\n",
      "+ \"xx:yy\" -- Clump indices between xx and yy inclusively. When xx is\n",
      "omitted the range begins from one; when yy is omitted the range ends\n",
      "with the final clump index.\n",
      "+ Any reasonable combination of above values separated by commas.\n",
      "\n",
      "\n",
      "\n",
      "\n",
      "\n",
      "FLBND( ) = _DOUBLE (Write)\n",
      "``````````````````````````\n",
      "The lower bounds of the bounding box enclosing the selected clumps in\n",
      "the current WCS Frame of the input NDF. Celestial axis values are\n",
      "always in units of radians, but spectral axis units will be in the\n",
      "spectral units used by the current WCS Frame.\n",
      "\n",
      "\n",
      "\n",
      "FUBND( ) = _DOUBLE (Write)\n",
      "``````````````````````````\n",
      "The upper bounds of the bounding box enclosing the selected clumps.\n",
      "See parameter FLBND for more details.\n",
      "\n",
      "\n",
      "\n",
      "LBOUND( ) = _INTEGER (Write)\n",
      "````````````````````````````\n",
      "The lower pixel bounds of bounding box enclosing the selected clumps.\n",
      "\n",
      "\n",
      "\n",
      "NCLUMPS = _INTEGER (Write)\n",
      "``````````````````````````\n",
      "The total number of clumps descrriptions stored within the supplied\n",
      "NDF.\n",
      "\n",
      "\n",
      "\n",
      "NDF = NDF (Read)\n",
      "````````````````\n",
      "The NDF defining the previously identified clumps. This should contain\n",
      "a CUPID extension describing all the identified clumps, in the format\n",
      "produced by FINDCLUMPS or EXTRACTCLUMPS.\n",
      "\n",
      "\n",
      "\n",
      "QUIET = _LOGICAL (Read)\n",
      "```````````````````````\n",
      "If TRUE, then no information is written out to the screen, although\n",
      "the output parameters are still assigned values. [FALSE]\n",
      "\n",
      "\n",
      "\n",
      "UBOUND( ) = _INTEGER (Write)\n",
      "````````````````````````````\n",
      "The upper pixel bounds of bounding box enclosing the selected clumps.\n",
      "\n",
      "\n",
      "\n",
      "Notes\n",
      "~~~~~\n",
      "\n",
      "\n",
      "+ It is hoped to extend the range of information reported by this\n",
      "  application as new requirements arise.\n",
      "\n",
      "\n",
      "\n",
      "\n",
      "Synopsis\n",
      "~~~~~~~~\n",
      "void clumpinfo( int *status );\n",
      "\n",
      "\n",
      "Copyright\n",
      "~~~~~~~~~\n",
      "Copyright (C) 2007 Particle Physics & Astronomy Research Council. All\n",
      "Rights Reserved.\n",
      "\n",
      "\n",
      "Licence\n",
      "~~~~~~~\n",
      "This program is free software; you can redistribute it and/or modify\n",
      "it under the terms of the GNU General Public License as published by\n",
      "the Free Software Foundation; either version 2 of the License, or (at\n",
      "your option) any later version.\n",
      "This program is distributed in the hope that it will be useful, but\n",
      "WITHOUT ANY WARRANTY; without even the implied warranty of\n",
      "MERCHANTABILITY or FITNESS FOR A PARTICULAR PURPOSE. See the GNU\n",
      "General Public License for more details.\n",
      "You should have received a copy of the GNU General Public License\n",
      "along with this program; if not, write to the Free Software\n",
      "Foundation, Inc., 51 Franklin Street,Fifth Floor, Boston, MA\n",
      "02110-1301, USA\n",
      "\n",
      "\n"
     ]
    }
   ],
   "source": [
    "utilities.starhelp(cupid.clumpinfo)"
   ]
  },
  {
   "cell_type": "markdown",
   "metadata": {
    "collapsed": true,
    "deletable": true,
    "editable": true
   },
   "source": [
    "## Running more complex commands\n",
    "\n",
    "You can also run more complex commands, such as those that produce new output files, such as CUPID's ```findclumps```. For example:"
   ]
  },
  {
   "cell_type": "code",
   "execution_count": 13,
   "metadata": {
    "collapsed": true,
    "deletable": true,
    "editable": true
   },
   "outputs": [],
   "source": [
    "from starlink import cupid"
   ]
  },
  {
   "cell_type": "code",
   "execution_count": 16,
   "metadata": {
    "collapsed": true,
    "deletable": true,
    "editable": true
   },
   "outputs": [],
   "source": [
    "g34map = '/export/data/sgraves/M16AD003/g34-3-tangent_30318.sdf'"
   ]
  },
  {
   "cell_type": "markdown",
   "metadata": {
    "deletable": true,
    "editable": true
   },
   "source": [
    "Because Starlink has a very complex method for automatically determining defaults which doesn't map very easily to pythonic required argument and optional keyword commands, you'll probably find that when you first run a command, you get a lot of errors about missing parameters, like this:"
   ]
  },
  {
   "cell_type": "code",
   "execution_count": 17,
   "metadata": {
    "collapsed": false,
    "deletable": true,
    "editable": true
   },
   "outputs": [
    {
     "ename": "Exception",
     "evalue": "Starlink error occured during command:\n/star/bin/cupid/findclumps ('/export/data/sgraves/M16AD003/g34-3-tangent_30318.sdf', 'g34-clumpmask')\n stdout and stderr are appended below.\n\n!! SUBPAR: Parameter RMS has no value - prompting disallowed.\n!  FINDCLUMPS: Failed to identify clumps of emission within a 1, 2 or 3-D\n!     NDF.\n!  Application exit status PAR__NOUSR, No user available for input\n!  /export/data/sgraves/M16AD003/g34-3-tangent_30318.sdf g34-clumpmask\n!     method=fellwalker outcat=g34clumpcat backoff=False\n\n",
     "output_type": "error",
     "traceback": [
      "\u001b[0;31m---------------------------------------------------------------------------\u001b[0m",
      "\u001b[0;31mException\u001b[0m                                 Traceback (most recent call last)",
      "\u001b[0;32m<ipython-input-17-080a74138021>\u001b[0m in \u001b[0;36m<module>\u001b[0;34m()\u001b[0m\n\u001b[0;32m----> 1\u001b[0;31m \u001b[0mcupid\u001b[0m\u001b[0;34m.\u001b[0m\u001b[0mfindclumps\u001b[0m\u001b[0;34m(\u001b[0m\u001b[0mg34map\u001b[0m\u001b[0;34m,\u001b[0m \u001b[0;34m'g34-clumpmask'\u001b[0m\u001b[0;34m,\u001b[0m \u001b[0moutcat\u001b[0m\u001b[0;34m=\u001b[0m\u001b[0;34m'g34clumpcat'\u001b[0m\u001b[0;34m,\u001b[0m \u001b[0mmethod\u001b[0m\u001b[0;34m=\u001b[0m\u001b[0;34m'fellwalker'\u001b[0m\u001b[0;34m,\u001b[0m \u001b[0mbackoff\u001b[0m\u001b[0;34m=\u001b[0m\u001b[0;32mFalse\u001b[0m\u001b[0;34m)\u001b[0m\u001b[0;34m\u001b[0m\u001b[0m\n\u001b[0m",
      "\u001b[0;32m/home/sgraves/PYTHON/starlink-pywrapper/starlink/cupid.py\u001b[0m in \u001b[0;36mfindclumps\u001b[0;34m(in_, out, **kwargs)\u001b[0m\n\u001b[1;32m    260\u001b[0m \u001b[0;34m\u001b[0m\u001b[0m\n\u001b[1;32m    261\u001b[0m     \"\"\"\n\u001b[0;32m--> 262\u001b[0;31m     \u001b[0;32mreturn\u001b[0m \u001b[0mwrapper\u001b[0m\u001b[0;34m.\u001b[0m\u001b[0mstarcomm\u001b[0m\u001b[0;34m(\u001b[0m\u001b[0;34m\"$CUPID_DIR/findclumps\"\u001b[0m\u001b[0;34m,\u001b[0m \u001b[0;34m\"findclumps\"\u001b[0m\u001b[0;34m,\u001b[0m \u001b[0min_\u001b[0m\u001b[0;34m,\u001b[0m \u001b[0mout\u001b[0m\u001b[0;34m,\u001b[0m \u001b[0;34m**\u001b[0m\u001b[0mkwargs\u001b[0m\u001b[0;34m)\u001b[0m\u001b[0;34m\u001b[0m\u001b[0m\n\u001b[0m\u001b[1;32m    263\u001b[0m \u001b[0;34m\u001b[0m\u001b[0m\n\u001b[1;32m    264\u001b[0m \u001b[0;34m\u001b[0m\u001b[0m\n",
      "\u001b[0;32m/home/sgraves/PYTHON/starlink-pywrapper/starlink/wrapper.py\u001b[0m in \u001b[0;36mstarcomm\u001b[0;34m(command, commandname, *args, **kwargs)\u001b[0m\n\u001b[1;32m    433\u001b[0m             \u001b[0mmessage\u001b[0m \u001b[0;34m=\u001b[0m \u001b[0mmessage\u001b[0m\u001b[0;34m.\u001b[0m\u001b[0mformat\u001b[0m\u001b[0;34m(\u001b[0m\u001b[0mcommand\u001b[0m\u001b[0;34m,\u001b[0m \u001b[0margs\u001b[0m\u001b[0;34m,\u001b[0m \u001b[0mstdout\u001b[0m\u001b[0;34m.\u001b[0m\u001b[0mdecode\u001b[0m\u001b[0;34m(\u001b[0m\u001b[0;34m)\u001b[0m\u001b[0;34m,\u001b[0m \u001b[0mstderr\u001b[0m\u001b[0;34m.\u001b[0m\u001b[0mdecode\u001b[0m\u001b[0;34m(\u001b[0m\u001b[0;34m)\u001b[0m\u001b[0;34m)\u001b[0m\u001b[0;34m\u001b[0m\u001b[0m\n\u001b[1;32m    434\u001b[0m \u001b[0;34m\u001b[0m\u001b[0m\n\u001b[0;32m--> 435\u001b[0;31m             \u001b[0;32mraise\u001b[0m \u001b[0mException\u001b[0m\u001b[0;34m(\u001b[0m\u001b[0mmessage\u001b[0m\u001b[0;34m)\u001b[0m\u001b[0;34m\u001b[0m\u001b[0m\n\u001b[0m\u001b[1;32m    436\u001b[0m         \u001b[0;32melse\u001b[0m\u001b[0;34m:\u001b[0m\u001b[0;34m\u001b[0m\u001b[0m\n\u001b[1;32m    437\u001b[0m \u001b[0;34m\u001b[0m\u001b[0m\n",
      "\u001b[0;31mException\u001b[0m: Starlink error occured during command:\n/star/bin/cupid/findclumps ('/export/data/sgraves/M16AD003/g34-3-tangent_30318.sdf', 'g34-clumpmask')\n stdout and stderr are appended below.\n\n!! SUBPAR: Parameter RMS has no value - prompting disallowed.\n!  FINDCLUMPS: Failed to identify clumps of emission within a 1, 2 or 3-D\n!     NDF.\n!  Application exit status PAR__NOUSR, No user available for input\n!  /export/data/sgraves/M16AD003/g34-3-tangent_30318.sdf g34-clumpmask\n!     method=fellwalker outcat=g34clumpcat backoff=False\n\n"
     ]
    }
   ],
   "source": [
    "cupid.findclumps(g34map, 'g34-clumpmask', outcat='g34clumpcat', method='fellwalker', backoff=False)"
   ]
  },
  {
   "cell_type": "markdown",
   "metadata": {
    "deletable": true,
    "editable": true
   },
   "source": [
    "In this case, it can be fixed by supplying a value for the RMS. (If you've used CUPID on the command line, you'll know that while it can guess the appropriate level for the RMS by looking at the noise map of the input NDF, it only does this via interactive prompting. As its not possible to prompt the user within a script, you'll instead have to supply this value yourself.)"
   ]
  },
  {
   "cell_type": "code",
   "execution_count": 20,
   "metadata": {
    "collapsed": false,
    "deletable": true,
    "editable": true
   },
   "outputs": [],
   "source": [
    "clumpresults = cupid.findclumps(g34map, 'g34-clumpmask', outcat='g34clumpcat.FIT', method='fellwalker',\n",
    "                                backoff=False, RMS=0.2)"
   ]
  },
  {
   "cell_type": "code",
   "execution_count": 21,
   "metadata": {
    "collapsed": false,
    "deletable": true,
    "editable": true
   },
   "outputs": [
    {
     "data": {
      "text/plain": [
       "    in_    b'/export/data/sgraves/M16AD003/g34-3-tangent_30318.sdf'\n",
       "    rms    0.2\n",
       "    out    b'g34-clumpmask'\n",
       "nclumps    63\n",
       " outcat    b'g34clumpcat.FIT'\n",
       "repconf    1\n",
       "backoff    0\n",
       " deconv    1\n",
       " wcspar    1\n",
       " method    b'fellwalker'\n",
       "  shape    b'NONE'"
      ]
     },
     "execution_count": 21,
     "metadata": {},
     "output_type": "execute_result"
    }
   ],
   "source": [
    "clumpresults"
   ]
  },
  {
   "cell_type": "markdown",
   "metadata": {
    "deletable": true,
    "editable": true
   },
   "source": [
    "This tells you that you find 63 clumps, they are stored in a ```g34-clumpmask.sdf``` file, you used the fellwalker method, and you made an output catalogue name ```g34clumpcat.FIT```."
   ]
  },
  {
   "cell_type": "markdown",
   "metadata": {
    "deletable": true,
    "editable": true
   },
   "source": [
    "# Problems and Issues\n",
    "\n",
    "## Known issues.\n",
    "Currently, the SMURF scripts which are really python scripts maskerading as Starlink commands (pol2scan, pol2map, most pol2... commands, jsaplit and a few others) won't raise an exit error if they encounter a problem. As a result, if you \n",
    "\n",
    "\n",
    "## Accessing the stdout.\n",
    "If you set the logging level to 'DEBUG' (see above), you'll see the standard output from every command reported on the screen. If you also need access to the standard output as a string, pass the keyword argument ```returnStdOut=True``` to any of the commands. This will make the command return two values: the normal namedtuple object with the output parameters, and the standard output as a string.\n",
    "\n",
    "Unfortunately the std output won't appear until the command finishes -- this will be primarily an issue for the long commands, mainly makemap, makecube, pol2scan and pol2map, and the oracdr recipes.\n",
    "\n",
    "## Issues with starlink-pyndf\n",
    "\n",
    "starlink-pyndf is used to access the output values from Starlink commands, and it usually requires the LD_LIBRARY_PATH (Linux) or ```$DYLD_LIBRARY_PATH``` environemntal variable to include the location of the various hds/ndf Starlink libraries. Normally this can be done by setting DYLD_LIBRARY_PATH (or LD_LIBRARY_PATH) to point to the ```$STARLINK_DIR/lib``` location before you start up python.\n",
    "\n",
    "If you haven't done that, you'll probably see an error like:"
   ]
  },
  {
   "cell_type": "code",
   "execution_count": 1,
   "metadata": {
    "collapsed": false,
    "deletable": true,
    "editable": true
   },
   "outputs": [
    {
     "ename": "ImportError",
     "evalue": "dlopen(/usr/local/lib/python3.5/site-packages/starlink/hds.cpython-35m-darwin.so, 2): Library not loaded: @rpath/lib/libndf.0.dylib\n  Referenced from: /usr/local/lib/python3.5/site-packages/starlink/hds.cpython-35m-darwin.so\n  Reason: image not found",
     "output_type": "error",
     "traceback": [
      "\u001b[0;31m---------------------------------------------------------------------------\u001b[0m",
      "\u001b[0;31mImportError\u001b[0m                               Traceback (most recent call last)",
      "\u001b[0;32m<ipython-input-1-d1e2496d8f65>\u001b[0m in \u001b[0;36m<module>\u001b[0;34m()\u001b[0m\n\u001b[0;32m----> 1\u001b[0;31m \u001b[0;32mfrom\u001b[0m \u001b[0mstarlink\u001b[0m \u001b[0;32mimport\u001b[0m \u001b[0mwrapper\u001b[0m\u001b[0;34m\u001b[0m\u001b[0m\n\u001b[0m",
      "\u001b[0;32m/Users/sarah/starlink-pywrapper/starlink/wrapper.py\u001b[0m in \u001b[0;36m<module>\u001b[0;34m()\u001b[0m\n\u001b[1;32m     52\u001b[0m \u001b[0;34m\u001b[0m\u001b[0m\n\u001b[1;32m     53\u001b[0m \u001b[0;34m\u001b[0m\u001b[0m\n\u001b[0;32m---> 54\u001b[0;31m \u001b[0;32mfrom\u001b[0m \u001b[0;34m.\u001b[0m \u001b[0;32mimport\u001b[0m \u001b[0mhdsutils\u001b[0m\u001b[0;34m\u001b[0m\u001b[0m\n\u001b[0m\u001b[1;32m     55\u001b[0m \u001b[0;34m\u001b[0m\u001b[0m\n\u001b[1;32m     56\u001b[0m \u001b[0mlogger\u001b[0m \u001b[0;34m=\u001b[0m \u001b[0mlogging\u001b[0m\u001b[0;34m.\u001b[0m\u001b[0mgetLogger\u001b[0m\u001b[0;34m(\u001b[0m\u001b[0m__name__\u001b[0m\u001b[0;34m)\u001b[0m\u001b[0;34m\u001b[0m\u001b[0m\n",
      "\u001b[0;32m/Users/sarah/starlink-pywrapper/starlink/hdsutils.py\u001b[0m in \u001b[0;36m<module>\u001b[0;34m()\u001b[0m\n\u001b[1;32m      3\u001b[0m \u001b[0;32mfrom\u001b[0m \u001b[0mkeyword\u001b[0m \u001b[0;32mimport\u001b[0m \u001b[0miskeyword\u001b[0m\u001b[0;34m\u001b[0m\u001b[0m\n\u001b[1;32m      4\u001b[0m \u001b[0;34m\u001b[0m\u001b[0m\n\u001b[0;32m----> 5\u001b[0;31m \u001b[0;32mfrom\u001b[0m \u001b[0mstarlink\u001b[0m \u001b[0;32mimport\u001b[0m \u001b[0mhds\u001b[0m\u001b[0;34m\u001b[0m\u001b[0m\n\u001b[0m\u001b[1;32m      6\u001b[0m \u001b[0;34m\u001b[0m\u001b[0m\n\u001b[1;32m      7\u001b[0m \u001b[0;32mdef\u001b[0m \u001b[0mget_hds_values\u001b[0m\u001b[0;34m(\u001b[0m\u001b[0mcomname\u001b[0m\u001b[0;34m,\u001b[0m \u001b[0madamdir\u001b[0m\u001b[0;34m)\u001b[0m\u001b[0;34m:\u001b[0m\u001b[0;34m\u001b[0m\u001b[0m\n",
      "\u001b[0;31mImportError\u001b[0m: dlopen(/usr/local/lib/python3.5/site-packages/starlink/hds.cpython-35m-darwin.so, 2): Library not loaded: @rpath/lib/libndf.0.dylib\n  Referenced from: /usr/local/lib/python3.5/site-packages/starlink/hds.cpython-35m-darwin.so\n  Reason: image not found"
     ]
    }
   ],
   "source": [
    "from starlink import wrapper"
   ]
  },
  {
   "cell_type": "markdown",
   "metadata": {
    "deletable": true,
    "editable": true
   },
   "source": [
    "## What if I can't run the command because its asking for the wrong parameters?\n",
    "\n",
    "If the autogeneration goes wrong, it could make it impossible to run one of the commands using the provided function python function. Please let me know if that happens, but if you need to work around it you can use the ```starlink.wrapper.starcomm``` command to run the command instead. This will let you run the command by specifying the command's path (which can include the standard Starlink environmental variables like $KAPPA_DIR), its name and its arguments as string."
   ]
  },
  {
   "cell_type": "code",
   "execution_count": 1,
   "metadata": {
    "collapsed": true,
    "deletable": true,
    "editable": true
   },
   "outputs": [],
   "source": [
    "from starlink import wrapper"
   ]
  },
  {
   "cell_type": "code",
   "execution_count": 2,
   "metadata": {
    "collapsed": false,
    "deletable": true,
    "editable": true
   },
   "outputs": [
    {
     "name": "stdout",
     "output_type": "stream",
     "text": [
      "Help on function starcomm in module starlink.wrapper:\n",
      "\n",
      "starcomm(command, commandname, *args, **kwargs)\n",
      "    Execute a Starlink application\n",
      "    \n",
      "    Carries out the starlink command, and returns a namedtuple of the\n",
      "    starlink parameter values (taken from $ADAM_DIR/<com>.sdf\n",
      "    \n",
      "    Arguments\n",
      "    ---------\n",
      "    command: str\n",
      "       The path of a command to run, e.g. '$SMURFDIR/makecube'\n",
      "    \n",
      "    commandname: str\n",
      "       The name of command (used for getting output values).\n",
      "    \n",
      "    Keyword arguments\n",
      "    -----------------\n",
      "    returnstdout: bool\n",
      "    \n",
      "        Have the string that would have been written to stdout in a\n",
      "        normal starlink session be returned from this function as a\n",
      "        string.\n",
      "    \n",
      "    \n",
      "    Other arguments and keyword arguments are evaluated by the command\n",
      "    being called. Please see the Starlink documentation for the command.\n",
      "    The standard Starlink package environmental variables (e.g. KAPPA_DIR,\n",
      "    SMURF_DIR etc.) can be used inside the command name.\n",
      "    \n",
      "    Returns\n",
      "    -------\n",
      "    \n",
      "       namedtuple: Containing all the input and output params for this command as attributes.\n",
      "       stdout: the stdout as a string (only returned if returnStdOut=True)\n",
      "    \n",
      "    Example\n",
      "    -------\n",
      "    \n",
      "    >>> res = starcomm('$KAPPA_DIR/stats', 'stats', ndf='myndf.sdf')\n",
      "    \n",
      "    Notes\n",
      "    -----\n",
      "    \n",
      "    Starlink parameters or functions that are reserved python names\n",
      "    (e.g. 'in') can be called by appending an underscore. E.g.\n",
      "    \n",
      "    >>> in_='myndf.sdf'\n",
      "\n"
     ]
    }
   ],
   "source": [
    "help(wrapper.starcomm)"
   ]
  },
  {
   "cell_type": "code",
   "execution_count": null,
   "metadata": {
    "collapsed": true,
    "deletable": true,
    "editable": true
   },
   "outputs": [],
   "source": []
  }
 ],
 "metadata": {
  "kernelspec": {
   "display_name": "Python 3",
   "language": "python",
   "name": "python3"
  },
  "language_info": {
   "codemirror_mode": {
    "name": "ipython",
    "version": 3
   },
   "file_extension": ".py",
   "mimetype": "text/x-python",
   "name": "python",
   "nbconvert_exporter": "python",
   "pygments_lexer": "ipython3",
   "version": "3.5.1"
  }
 },
 "nbformat": 4,
 "nbformat_minor": 2
}
