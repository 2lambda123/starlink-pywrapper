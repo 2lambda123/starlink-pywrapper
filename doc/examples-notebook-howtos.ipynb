{
 "cells": [
  {
   "cell_type": "markdown",
   "metadata": {},
   "source": [
    "# Example Notebooks: How tos.\n",
    "\n",
    "This can be viewed as an Jupyter notebook at https://github.com/Starlink/starlink-pywrapper/blob/master/doc/examples-notebook-howtos.ipynb\n",
    "\n",
    "This notebook goes through some of the relevant exercises from the Starlink Analysis tutorial worked examples on the JCMT website. It skips those that are entirely GUI based. This assumes that you have downloaded the Starlink Analysis tutorial and have unpacked the data. \n",
    "\n",
    "You can see the non-python version of this tutorial at:\n",
    "\n",
    "http://www.eaobservatory.org/jcmt/science/reductionanalysis-tutorials/starlink-analysis/\n",
    "\n",
    "You can download the provided data from:\n",
    "\n",
    "http://ftp.eao.hawaii.edu/pub/jcmt/usersmeetings/JCMT_tutorial_2018_Starlink_Analysis.tar.gz\n",
    "\n",
    "Please unpack the data with `tar -xvfz JCMT_tutorial_2018_Starlink_Analysis.tar.gz`, and then go into the `Starlink_Analysis` directory that is produced. The commands here assume that you are running this tutorial in the same directory that you have run this in. Please adjust the paths if you have unpacked the data somewhere else.\n",
    "\n",
    "## Getting Help \n",
    "Remeber that you can get help on a command with\n",
    "`help(module.commandname)` or `module.commandname?` in jupyter.\n",
    "\n",
    "You may also need to look at the Starlink on-line documentation. The KAPPA manual is at:\n",
    "http://www.starlink.ac.uk/docs/sun95.htx/sun95.html\n",
    "\n",
    "The documentation on the Starlink-pywrapper module is available at:\n",
    "http://starlink-pywrapper.readthedocs.io/en/latest/\n",
    "\n",
    "Shell commands are shown using the magic `%` (for a single magic command) or to have an entire cell that is running shell commands you can use `%%script bash`; these work in jupyter notebooks but will not work in a normal Python script.\n",
    "\n",
    "\n",
    "## Starting the module\n",
    "First of all we start up the package and import what we need, and set the location of the Starlink Software installation to use. We'll also set up a logging handler (this may sometimes already exist, depending on how your jupyter notebook is configured)."
   ]
  },
  {
   "cell_type": "code",
   "execution_count": 1,
   "metadata": {},
   "outputs": [
    {
     "name": "stderr",
     "output_type": "stream",
     "text": [
      "Could not find Starlink: please run change_starpath(\"/path/to/star\")\n"
     ]
    }
   ],
   "source": [
    "from starlink import wrapper, kappa, convert, cupid\n",
    "import logging\n",
    "logging.basicConfig(level=logging.INFO)\n",
    "logging.root.setLevel(logging.INFO)\n",
    "\n",
    "import numpy as np"
   ]
  },
  {
   "cell_type": "code",
   "execution_count": 2,
   "metadata": {},
   "outputs": [],
   "source": [
    "wrapper.change_starpath('/Users/sarah/star-2017A')"
   ]
  },
  {
   "cell_type": "markdown",
   "metadata": {},
   "source": [
    "If you are not in the directory where you unpacked your data, please change to that directory by running the jupyter magic command `%cd /path/to/your/directory` in the following blank cell:"
   ]
  },
  {
   "cell_type": "code",
   "execution_count": 3,
   "metadata": {},
   "outputs": [
    {
     "name": "stdout",
     "output_type": "stream",
     "text": [
      "/Users/sarah/SeoulUsersMeeting/Starlink_Analysis\n"
     ]
    }
   ],
   "source": [
    "%cd ../Starlink_Analysis"
   ]
  },
  {
   "cell_type": "markdown",
   "metadata": {},
   "source": [
    "## Task: Convert a Frequency based FITS cube a to Radio Velocity NDF file\n",
    "\n",
    "**Take an archival FITS HARP cube (one is provided in this tutorial: jcmth20061220_00044_01_reduced001_nit_000.fits), convert it to NDF and change the 3rd axis from Frequency to radio velocity. Also change the standard of rest from barycentric to LSRK.**\n",
    "\n",
    "First of all, we will convert the FITS file (downloaded from the JCMT Science Archive) to NDF format, using the convert package's [`fits2ndf`](http://www.starlink.ac.uk/cgi-bin/htxserver/sun55.htx/sun55.html?xref_FITS2NDF) command:"
   ]
  },
  {
   "cell_type": "code",
   "execution_count": 4,
   "metadata": {},
   "outputs": [
    {
     "data": {
      "text/plain": [
       "      out    co32_cube.sdf\n",
       "container    False\n",
       "  profits    True\n",
       "  wcscomp    WCS\n",
       "      in_    jcmth20061220_00044_01_reduced001_nit_000.fits\n",
       "  proexts    True\n",
       "   fmtcnv    TRUE"
      ]
     },
     "execution_count": 4,
     "metadata": {},
     "output_type": "execute_result"
    }
   ],
   "source": [
    "# Set up the names\n",
    "fitscube = 'jcmth20061220_00044_01_reduced001_nit_000.fits'\n",
    "cube = 'co32_cube.sdf'\n",
    "\n",
    "# Create the SDF file.\n",
    "convert.fits2ndf(fitscube, cube)"
   ]
  },
  {
   "cell_type": "markdown",
   "metadata": {},
   "source": [
    "We can use [`ndftrace`](http://www.starlink.ac.uk/cgi-bin/htxserver/sun95.htx/sun95.html?xref_NDFTRACE) to examine the cube. If you want to see the string output normally displayed to screen, turn the logging level to DEBUG."
   ]
  },
  {
   "cell_type": "code",
   "execution_count": 5,
   "metadata": {},
   "outputs": [
    {
     "name": "stdout",
     "output_type": "stream",
     "text": [
      "   flabel    ['Right ascension', 'Declination', 'Frequency (USB)']\n",
      "     type    _REAL\n",
      "     fdim    [3, 3, 3, 3, 3]\n",
      "   ubound    [61, 59, 939]\n",
      "  exttype    ['_CHAR*80', 'SMURF_EXT', 'PROVENANCE']\n",
      "      ndf    co32_cube.sdf\n",
      "     dims    [119, 118, 1880]\n",
      "     zero    0.0\n",
      "  history    True\n",
      "    fubnd    [1.7236123539655122, 0.07521704716547964, 346.2169257726615]\n",
      "  fullwcs    False\n",
      "  current    5\n",
      "    label    TA*   corrected antenna temperature\n",
      "     form    SIMPLE\n",
      "    units    K\n",
      "  extname    ['FITS', 'SMURF', 'PROVENANCE']\n",
      "    scale    1.0\n",
      "    title    Ros6\n",
      "  quality    False\n",
      " fullaxis    False\n",
      "     ndim    3\n",
      "fullframe    False\n",
      "  fdomain    ['GRID', 'PIXEL', 'AXIS', 'FRACTION', 'SKY-DSBSPECTRUM']\n",
      "    nextn    3\n",
      "   lbound    [-57, -58, -940]\n",
      " variance    True\n",
      "      wcs    True\n",
      "   nframe    5\n",
      "fpixscale    ['5.99999', '5.99999', '0.0004882367']\n",
      "     axis    False\n",
      "      bad    True\n",
      "    funit    ['hh:mm:ss.s', 'ddd:mm:ss', 'GHz']\n",
      "    flbnd    [1.720140977555604, 0.07178446001926014, 345.29904080900326]\n",
      "   ftitle    [ Data grid indices; first pixel at (1,1,1)\n",
      "               Pixel coordinates; first pixel at (-57.5,-58.5,-940.5)\n",
      "               Axis coordinates; first pixel at (-57.5,-58.5,-940.5)\n",
      "               Normalised pixel coordinates; first pixel at (0.004201681,0.004237288,0.00026595\n",
      "               3-d compound coordinate system\n",
      "             ]\n"
     ]
    }
   ],
   "source": [
    "ndftrace = kappa.ndftrace(cube)\n",
    "print(ndftrace)"
   ]
  },
  {
   "cell_type": "markdown",
   "metadata": {},
   "source": [
    "If you've not used the `starlink-pywrapper` module before, the return value from Starlink commands is a `namedtuple` object, where every value normally written into the ADAM directory's parameter file for that command. This lets you programatically access the return values without having to grep string output. (For advanced Starlink users, this is the equivalent of using `parget` to get the value).\n",
    "\n",
    "As an example, the units of the frequency system are shown in `flabel`, in the 3rd item. You can view this as:"
   ]
  },
  {
   "cell_type": "code",
   "execution_count": 6,
   "metadata": {},
   "outputs": [
    {
     "data": {
      "text/plain": [
       "'Frequency (USB)'"
      ]
     },
     "execution_count": 6,
     "metadata": {},
     "output_type": "execute_result"
    }
   ],
   "source": [
    "ndftrace.flabel[2]"
   ]
  },
  {
   "cell_type": "markdown",
   "metadata": {},
   "source": [
    "We can see the coordinate system by using [`wcsattrib`](http://www.starlink.ac.uk/cgi-bin/htxserver/sun95.htx/sun95.html?xref_WCSATTRIB) to get the values of the coordinate `System` on the 3rd axis, and the current standard of rest using the `StdofRest` values."
   ]
  },
  {
   "cell_type": "code",
   "execution_count": 7,
   "metadata": {
    "scrolled": true
   },
   "outputs": [
    {
     "name": "stdout",
     "output_type": "stream",
     "text": [
      "FREQ\n",
      "Barycentric\n"
     ]
    }
   ],
   "source": [
    "print(kappa.wcsattrib(cube, mode='get', name='System(3)').value)\n",
    "print(kappa.wcsattrib(cube, mode='get', name='StdofRest').value)"
   ]
  },
  {
   "cell_type": "markdown",
   "metadata": {},
   "source": [
    "We can now set these values, also using `wcsattrib` but now using `mode='set'`. We don't have to specify which axes' `System` we are updating, as AST is intelligent enough to know that only a spectral system can be set to radio velocity."
   ]
  },
  {
   "cell_type": "code",
   "execution_count": 8,
   "metadata": {},
   "outputs": [
    {
     "data": {
      "text/plain": [
       "newval    LSRK\n",
       "  name    StdofRest\n",
       "  mode    set\n",
       " state    True\n",
       " remap    True\n",
       "   ndf    co32_cube.sdf\n",
       " value    Barycentric"
      ]
     },
     "execution_count": 8,
     "metadata": {},
     "output_type": "execute_result"
    }
   ],
   "source": [
    "kappa.wcsattrib(cube, mode='set',\n",
    "                name='System', newval='vrad')\n",
    "kappa.wcsattrib(cube, mode='set',\n",
    "                name='StdofRest', newval='LSRK')"
   ]
  },
  {
   "cell_type": "markdown",
   "metadata": {},
   "source": [
    "We can see this command has worked by seeing what `ndftrace` produces:"
   ]
  },
  {
   "cell_type": "code",
   "execution_count": 9,
   "metadata": {},
   "outputs": [
    {
     "name": "stdout",
     "output_type": "stream",
     "text": [
      "Radio velocity (USB)\n",
      "0.4233065 km/s\n"
     ]
    }
   ],
   "source": [
    "ndftrace = kappa.ndftrace(cube)\n",
    "print(ndftrace.flabel[2])\n",
    "print(ndftrace.fpixscale[2], ndftrace.funit[2])\n"
   ]
  },
  {
   "cell_type": "markdown",
   "metadata": {},
   "source": [
    "## 2. See what is in your file\n",
    "\n",
    "**Can you programatically identify the molecule and transition, original observation date, find out if the autogrid option was used in the original makecube command, and when that command was run? Identify the original observations and see what extensions are present.**\n",
    "\n",
    "### Getting information from the FITS headers.\n",
    "JCMT SDF files have a FITS extension which holds FITS-style header values holding metadata about the original observation and telescope data.  One way to read out a single FITS header value from an NDF is to use [`kappa.fitsval`](http://www.starlink.ac.uk/cgi-bin/htxserver/sun95.htx/sun95.html?xref_FITSVAL), as:\n"
   ]
  },
  {
   "cell_type": "code",
   "execution_count": 10,
   "metadata": {},
   "outputs": [
    {
     "name": "stdout",
     "output_type": "stream",
     "text": [
      "CO 3  - 2\n"
     ]
    }
   ],
   "source": [
    "molecule = kappa.fitsval(cube, 'MOLECULE').value\n",
    "transition = kappa.fitsval(cube, 'TRANSITI').value\n",
    "print(molecule, transition)"
   ]
  },
  {
   "cell_type": "markdown",
   "metadata": {},
   "source": [
    "However, if you need a lot of things from the FITS header `fitsval` can be slow; it reads the file for each call you make.\n",
    "\n",
    "You can't easily use KAPPA's FITSLIST as that command only prints to screen, so it does not return useful information. However, if you have `astropy` installed there is a convenience method in the utilities module that will read in the FITS extension of an NDF file and return it as an Astropy Header object. You can run this as:"
   ]
  },
  {
   "cell_type": "code",
   "execution_count": 11,
   "metadata": {
    "scrolled": true
   },
   "outputs": [
    {
     "name": "stdout",
     "output_type": "stream",
     "text": [
      "<class 'astropy.io.fits.header.Header'>\n"
     ]
    },
    {
     "data": {
      "text/plain": [
       "SIMPLE  =                    T / file does conform to FITS standard             \n",
       "BITPIX  =                  -32 / number of bits per data pixel                  \n",
       "NAXIS   =                    3 / number of data axes                            \n",
       "NAXIS1  =                  119 / length of data axis 1                          \n",
       "NAXIS2  =                  118 / length of data axis 2                          \n",
       "NAXIS3  =                 1880 / length of data axis 3                          \n",
       "EXTEND  =                    T / FITS dataset may contain extensions            \n",
       "COMMENT   FITS (Flexible Image Transport System) format is defined in 'Astronomy\n",
       "COMMENT   and Astrophysics', volume 376, page 359; bibcode: 2001A&A...376..359H \n",
       "LBOUND1 =                  -57 / Pixel origin along axis 1                      \n",
       "LBOUND2 =                  -58 / Pixel origin along axis 2                      \n",
       "LBOUND3 =                 -940 / Pixel origin along axis 3                      \n",
       "LABEL   = 'T%s60+%v30+A%^50+%<20+*%+   corrected antenna temperature' / Label of\n",
       "BUNIT   = 'K       '           / Units of the primary array                     \n",
       "DATE    = '2014-11-20T09:23:59' / file creation date (YYYY-MM-DDThh:mm:ss UT)   \n",
       "ORIGIN  = 'Joint Astronomy Centre, Hilo' / Origin of file                       \n",
       "BSCALE  =                  1.0 / True_value = BSCALE * FITS_value + BZERO       \n",
       "BZERO   =                  0.0 / True_value = BSCALE * FITS_value + BZERO       \n",
       "HDUCLAS1= 'NDF     '           / Starlink NDF (hierarchical n-dim format)       \n",
       "HDUCLAS2= 'DATA    '           / Array component subclass                       \n",
       "HDSTYPE = 'NDF     '           / HDS data type of the component                 \n",
       "TELESCOP= 'JCMT    '           / Name of Telescope                              \n",
       "                                                                                \n",
       "        ---- x,y,z triplet for JCMT relative to centre of earth ----            \n",
       "ALT-OBS =               4111.0 / [m] Height of observatory above sea level      \n",
       "LAT-OBS =       19.82583335521 / [deg] Latitude of Observatory                  \n",
       "LONG-OBS=      -155.4797222301 / [deg] East longitude of observatory            \n",
       "OBSGEO-X=     -5461073.2102095 / [m] Observatory geocentric X                   \n",
       "OBSGEO-Y=    -2491088.97716685 / [m] Observatory geocentric Y                   \n",
       "OBSGEO-Z=     2149568.76223909 / [m] Observatory geocentric Z                   \n",
       "ETAL    =                      / Telescope efficiency                           \n",
       "                                                                                \n",
       "        ---- WCS info and axis descriptions ----                                \n",
       "                                                                                \n",
       "        ---- OMP and ORAC-DR Specific ----                                      \n",
       "PROJECT = 'M06BH23B'           / PATT number                                    \n",
       "RECIPE  = 'REDUCE_SCIENCE_GRADIENT' / ORAC-DR recipe                            \n",
       "DRGROUP =                      / Data Reduction group ID                        \n",
       "MSBID   = '4461bbf97f993b6524528e1a428e545b' / Id of minimum scheduable block   \n",
       "SURVEY  =                      / Survey Name                                    \n",
       "RMTAGENT=                      / Name of Remote Agent                           \n",
       "AGENTID =                      / Unique identifier for remote agent             \n",
       "                                                                                \n",
       "        ---- Obs Id, Date, Pointing Info ----                                   \n",
       "OBJECT  = 'Ros6    '           / Object of interest                             \n",
       "STANDARD=                    F / True if the spectral line is a standard        \n",
       "OBSNUM  =                   44 / obs number                                     \n",
       "UTDATE  =             20061220 / UT Date as integer in yyyymmdd format          \n",
       "DATE-OBS= '2006-12-20T09:55:34.018' / Date of observation                       \n",
       "DATE-END= '2006-12-20T10:33:33' / UTC Datetime of end of observation            \n",
       "OBSID   = 'acsis_44_20061220T095454' / Unique observation identifier            \n",
       "INSTAP  =                      / Receptor at tracking centre (if any)           \n",
       "INSTAP_X=                  0.0 / [arcsec] Aperture X off. rel. to instr centre  \n",
       "INSTAP_Y=                  0.0 / [arcsec] Aperture Y off. rel. to instr centre  \n",
       "AMSTART =       1.081730871816 / Airmass at start of obervation                 \n",
       "AMEND   =       1.045496907132 / Airmass at end of obervation                   \n",
       "AZSTART =       132.3559502327 / [deg] Azimuth at obs. start - mount sys.       \n",
       "AZEND   =       155.5702327805 / [deg] Azimuth at obs. end - mount sys.         \n",
       "ELSTART =       67.66318842937 / [deg] Elevation at obs. start - mount sys.     \n",
       "ELEND   =       72.97063651679 / [deg] Elevation at obs. end - mount sys.       \n",
       "HSTSTART= '2006-12-19T23:54:54' / HST at start of observation                   \n",
       "HSTEND  = '2006-12-20T00:33:33' / HST at end of observation                     \n",
       "LSTSTART= '05:28:23.2812'      / LST at start of observation                    \n",
       "LSTEND  = '06:07:07.8576'      / LST at end of observation                      \n",
       "                                                                                \n",
       "        ---- Integration time related -----                                     \n",
       "INT_TIME=       1040.828714403 / [s] Time spent integrating, entire obs.        \n",
       "                                                                                \n",
       "        ---- ACSIS Specific ----                                                \n",
       "BACKEND = 'ACSIS   '           / Name of the backend                            \n",
       "MOLECULE= 'CO      '           / Target molecular species                       \n",
       "TRANSITI= '3  - 2  '           / Target transition for MOLECULE                 \n",
       "DRRECIPE= 'raster_pssw_dr_recipe.ent' / ACSIS-DR recipe name                    \n",
       "BWMODE  = '1000MHzx2048'       / ACSIS total bandwidth set up                   \n",
       "SUBSYSNR=                    1 / Sub-system number                              \n",
       "SUBBANDS= '1000MHzx2048'       / ACSIS sub-band set up                          \n",
       "NSUBBAND=                    1 / Number of subbands                             \n",
       "SUBREFP1=                 1024 / Reference channel for subband1                 \n",
       "SUBREFP2=                      / Reference channel for subband2                 \n",
       "NCHNSUBS=                 2048 / No. of channels in this sub-system             \n",
       "REFCHAN =               1024.0 / Reference IF channel No.                       \n",
       "IFCHANSP=           -488281.25 / [Hz] TOPO IF channel spacing (signed)          \n",
       "FFT_WIN = 'truncate'           / Type of window used for FFT                    \n",
       "BEDEGFAC=                 1.23 / Backend degradation factor                     \n",
       "MSROOT  = 'raw_raster'         / Root name of raw measurement sets              \n",
       "                                                                                \n",
       "        ---- FE Specific ----                                                   \n",
       "INSTRUME= 'HARP    '           / Front-end receiver                             \n",
       "SB_MODE = 'SSB     '           / Sideband mode                                  \n",
       "IFFREQ  =                  5.0 / [GHz] IF Frequency                             \n",
       "N_MIX   =                   14 / No. of mixers                                  \n",
       "OBS_SB  = 'USB     '           / The observed sideband                          \n",
       "LOFREQS =          340.7717892 / [GHz] LO Frequency at start of obs.            \n",
       "LOFREQE =          340.7716203 / [GHz] LO Frequency at end of obs.              \n",
       "RECPTORS= 'H01 H02 H04 H05 H06 H07 H08 H09 H10 H11 H12 H13 H14 H15 ' / Active FE\n",
       "REFRECEP= 'H05     '           / Receptor with unit sensitivity                 \n",
       "MEDTSYS =     366.359619140625 / [K] Median MAKECUBE system temperature         \n",
       "TEMPSCAL= 'TA*     '           / Temperature scale in use                       \n",
       "DOPPLER = 'radio   '           / Doppler velocity definition                    \n",
       "SSYSOBS = 'TOPOCENT'           / Spectral ref. frame during observation         \n",
       "                                                                                \n",
       "        ---- Environmental Data ----                                            \n",
       "ATSTART =                  4.5 / [degC] Air temp at start of observation        \n",
       "ATEND   =                  4.0 / [degC] Air temp at end of observation          \n",
       "HUMSTART=                 15.6 / Rel. Humidity at observation start             \n",
       "HUMEND  =                 20.0 / Rel. Humidity at observation end               \n",
       "BPSTART =       616.8252563477 / [mbar] Pressure at observation start           \n",
       "BPEND   =       616.6787719727 / [mbar] Pressure  at observation end            \n",
       "WNDSPDST=       9.447959899902 / [km/h] Wind Speed at obs start                 \n",
       "WNDSPDEN=       14.28179931641 / [km/h] Wind Speed at obs start                 \n",
       "WNDDIRST=       19.89514160156 / [deg] Wind direction, azimuth at obs start     \n",
       "WNDDIREN=       11.75674438477 / [deg] Wind direction, azimuth at obs end       \n",
       "TAU225ST=                0.118 / Tau at 225 GHz from CSO at start               \n",
       "TAU225EN=                0.124 / Tau at 225 GHz from CSO at end                 \n",
       "TAUDATST= '2006-12-20T09:49:00' / Time of TAU225ST observation                  \n",
       "TAUDATEN= '2006-12-20T10:29:00' / Time of TAU225EN observation                  \n",
       "TAUSRC  = 'CSO225GHZ'          / Source of the TAU225 value                     \n",
       "WVMTAUST=                      / 186GHz Tau from JCMT WVM at start              \n",
       "WVMTAUEN=                      / 186GHz Tau from JCMT WVM at end                \n",
       "WVMDATST=                      / Time of WVMTAUST                               \n",
       "WVMDATEN=                      / Time of WVMTAUEN                               \n",
       "SEEINGST=                      / [arcsec] SAO atmospheric seeing (start)        \n",
       "SEEINGEN=                      / [arcsec] SAO atmospheric seeing (end)          \n",
       "SEEDATST=                      / Date/Time of SEEINGST                          \n",
       "SEEDATEN=                      / Date/Time of SEEINGEN                          \n",
       "FRLEGTST=           5.99084875 / [degC] Mean Front leg temperature - Start Obs  \n",
       "FRLEGTEN=           5.73295925 / [degC] Mean Front Leg temperature -End Obs     \n",
       "BKLEGTST=            6.7864005 / [degC] Mean back leg temperature -Start Obs    \n",
       "BKLEGTEN=             6.621283 / [degC] Mean back leg temperature -End Obs      \n",
       "                                                                                \n",
       "        ---- Switching and Map setup for the observation ----                   \n",
       "SAM_MODE= 'scan    '           / Sampling Mode                                  \n",
       "SW_MODE = 'pssw    '           / Switch Mode                                    \n",
       "SKYREFX = '06:33:25.0'         / X co-ord of Reference Position                 \n",
       "SKYREFY = ' 04:10:24.00'       / Y co-ord of Reference Position                 \n",
       "OBS_TYPE= 'science '           / Type of observation                            \n",
       "CHOP_CRD=                      / Chopping co-ordinate system                    \n",
       "CHOP_FRQ=                      / [Hz] Chop frequency                            \n",
       "CHOP_PA =                      / [deg] Chop PA; 0=in lat, 90=in long            \n",
       "CHOP_THR=                      / [arcsec] Chop throw                            \n",
       "JIGL_CNT=                      / Number of offsets in jiggle pattern            \n",
       "JIGL_NAM=                      / File containing the jiggle offsets             \n",
       "JIG_PA  =                      / [deg] Jiggling PA; 0=in lat, 90=in long        \n",
       "JIG_CRD =                      / Jiggling co-ordinate system                    \n",
       "MAP_HGHT=                600.0 / [arcsec] Requested height of map               \n",
       "MAP_PA  =                  0.0 / [deg] Requested PA of map                      \n",
       "MAP_WDTH=                600.0 / [arcsec] Requested width of map                \n",
       "LOCL_CRD= 'TRACKING'           / Local offset co-ordinate system                \n",
       "MAP_X   =                  0.0 / [arcsec] Requested map offset from tel centre  \n",
       "MAP_Y   =                  0.0 / [arcsec] Requested map offset from tel centre  \n",
       "SCAN_CRD= 'TRACKING'           / Co-ordinate system for scanning direction      \n",
       "SCAN_VEL=                 60.0 / [arcsec/sec] Scan velocity along scan axis     \n",
       "SCAN_DY =                  6.0 / [arcsec] Scan spacing perp. to scan axis       \n",
       "SCAN_PA =                 90.0 / [deg] Scan PA relative to SAM_CRDS             \n",
       "SCAN_PAT= 'BOUSTROPHEDON'      / Scan pattern name                              \n",
       "                                                                                \n",
       "        ---- SMU ----                                                           \n",
       "ALIGN_DX=      0.1783149540424 / SMU tables X axis focus offset                 \n",
       "ALIGN_DY=     -0.2192945927382 / SMU tables Y axis focus offset                 \n",
       "FOCUS_DZ=       -0.42546454072 / SMU tables Z axis focus offset                 \n",
       "DAZ     =      -86.53974914551 / SMU azimuth pointing offset                    \n",
       "DEL     =       88.99977874756 / SMU elevation pointing offset                  \n",
       "UAZ     =      0.6387759871136 / User azimuth pointing offset                   \n",
       "UEL     =      -9.841074604212 / User elevation pointing offset                 \n",
       "        ---- JOS parameters ----                                                \n",
       "STEPTIME=                  0.1 / RTS step time during an RTS sequence           \n",
       "NUM_CYC =                    1 / Number of times to repeat entire recipe        \n",
       "NUM_NODS=                      / Number of times to repeat nod set              \n",
       "JOS_MULT=                    0 / MULT from JOS used in total steps calculation  \n",
       "JOS_MIN =                    1 / MIN from JOS used in total steps calculation   \n",
       "NCALSTEP=                   50 / Number of RTS steps for each CAL (if any)      \n",
       "NREFSTEP=                   13 / Number of RTS steps for each REF (if any)      \n",
       "STBETREF=                  300 / Target number of RTS steps between refs        \n",
       "STBETCAL=                18000 / Target number of RTS steps between cals        \n",
       "STARTIDX=                    1 / Index into pattern at start of obs             \n",
       "FOCAXIS =                      / Focus Axis to move (X, Y, Z)                   \n",
       "NFOCSTEP=                      / Number of focal position steps (odd number)    \n",
       "FOCSTEP =                      / Distance between focus steps                   \n",
       "                                                                                \n",
       "        ---- Miscellaneous ----                                                 \n",
       "OCSCFG  = 'acsis_20061220_095351_013020.xml' / OCS config filename              \n",
       "SIM_CORR=                    F / True if any CORRTASK is simulated              \n",
       "SIM_SMU =                    F / True if SMU data is simulated                  \n",
       "SIM_TCS =                    F / True if TCS data is simulated                  \n",
       "SIM_RTS =                    F / True if RTS data is simulated                  \n",
       "SIM_IF  =                    F / True if IF data is simulated                   \n",
       "SIMULATE=                    F / True if any data are simulated                 \n",
       "STATUS  = 'NORMAL  '           / Status of end of obervation                    \n",
       "                                                                                \n",
       "        ---- ROVER Specific ----                                                \n",
       "POL_MODE=                      / Step-and-integrate (STEPINT) or Spin (SPIN)    \n",
       "ROTAFREQ=                      / [Hz] Spin frequency (if spinning)              \n",
       "                                                                                \n",
       "PIPEVERS= '29bb4c581feb2157fb271d5e6a4a5d2255f825f4' / Pipeline version         \n",
       "ENGVERS = '08da159b76928b86133c6657917ded29333e9607' / Algorithm engine version \n",
       "PROCVERS= '20141111045731'     / Date of most recent commit                     \n",
       "OBSDEC  =     4.21220068894988 / [deg] Reference ICRS Dec coordinate            \n",
       "OBSRABL =     98.7548453665255 / [deg] Bottom left ICRS RA coordinate           \n",
       "OBSRATL =     98.7548698539446 / [deg] Top left ICRS RA coordinate              \n",
       "OBSRABR =     98.5576711732281 / [deg] Bottom right ICRS RA coordinate          \n",
       "OBSDECBR=     4.11378627129113 / [deg] Bottom right ICRS Dec coordinate         \n",
       "OBSRATR =     98.5576462312922 / [deg] Top right ICRS RA coordinate             \n",
       "OBSRA   =     98.6571589189656 / [deg] Reference ICRS RA coordinate             \n",
       "MJD-OBS =     54089.4135881744 / Modified Julian Date of observation            \n",
       "CRPIX1  =               59.461 / Reference pixel on axis 1                      \n",
       "CRPIX2  =               60.045 / Reference pixel on axis 2                      \n",
       "CRPIX3  =                941.0 / Reference pixel on axis 3                      \n",
       "CRVAL1  =     98.6571666666667 / Value at ref. pixel on axis 1                  \n",
       "CRVAL2  =     4.21219444444444 / Value at ref. pixel on axis 2                  \n",
       "CRVAL3  =     345.757739172491 / Value at ref. pixel on axis 3                  \n",
       "CTYPE1  = 'RA---TAN'           / Type of co-ordinate on axis 1                  \n",
       "CTYPE2  = 'DEC--TAN'           / Type of co-ordinate on axis 2                  \n",
       "CTYPE3  = 'FREQ    '           / Type of co-ordinate on axis 3                  \n",
       "CD1_1   = -0.00166666666666618 / Transformation matrix element                  \n",
       "CD2_2   =  0.00166666666666674 / Transformation matrix element                  \n",
       "CD3_3   =  -4.8823668279695E-4 / Transformation matrix element                  \n",
       "CUNIT3  = 'GHz     '           / Units for axis 3                               \n",
       "RADESYS = 'FK5     '           / Reference frame for RA/DEC values              \n",
       "EQUINOX =               2000.0 / [yr] Epoch of reference equinox                \n",
       "SPECSYS = 'BARYCENT'           / Standard of rest for spectral axis             \n",
       "SSYSSRC = 'HELIOCEN'           / Standard of rest for source redshift           \n",
       "ZSOURCE =  3.33575222069005E-5 / [] Redshift of source                          \n",
       "VELOSYS =    -5407.11192716254 / [m/s] Topo. apparent velocity of rest frame    \n",
       "RESTFRQ =       345795989900.0 / [Hz] Rest frequency                            \n",
       "IMAGFREQ=     335758041512.747 / [Hz] Image frequency                           \n",
       "MJD-END =     54089.4399652778 / MJD of end of observation                      \n",
       "ASN_TYPE= 'night   '           / Time-based selection criterion                 \n",
       "PRODUCT = 'reduced '           / Pipeline product                               \n",
       "PRODID  = 'reduced-345796MHz-1000MHzx2048-1' / Product ID                       \n",
       "                                                                                \n",
       "        ---- Metadata Fixups ----                                               \n",
       "INBEAM  =                      / Hardware in the beam                           \n",
       "DUT1    =  5.93298611111111E-7 / [d] UT1-UTC correction                         \n",
       "OBSIDSS = 'acsis_44_20061220T095454_1' / Unique observation subsys identifier   \n",
       "TRACKSYS= 'J2000   '           / TCS Tracking coordinate system                 \n",
       "BASEC1  =     98.6570833333333 / [deg] TCS BASE position (longitude) in TRACKSYS\n",
       "BASEC2  =     4.21222222222222 / [deg] TCS BASE position (latitude) in TRACKSYS \n",
       "ROT_CRD = 'TRACKING'           / K-mirror coordinate system                     \n",
       "DHSVER  = 'MOD     '           / Data Handling Version                          \n",
       "                                                                                \n",
       "        ---- Data Processing ----                                               \n",
       "EXP_TIME=      26.648717880249 / [s] Median MAKECUBE exposure time              \n",
       "EFF_TIME=     4.94610548019409 / [s] Median MAKECUBE effective integration time \n",
       "NUMTILES=                    1 / No. of tiles covering the field                \n",
       "OBSDECBL=     4.11378649454938 / [deg] Bottom left ICRS Dec coordinate          \n",
       "OBSDECTL=     4.30878602278671 / [deg] Top left ICRS Dec coordinate             \n",
       "OBSDECTR=     4.30878578897683 / [deg] Top right ICRS Dec coordinate            \n",
       "FRQSIGLO=     345.299040809016 / [GHz] Lower barycentric freq bound, signal side\n",
       "FRQSIGHI=     346.216925772674 / [GHz] Upper barycentric freq bound, signal side\n",
       "FRQIMGLO=     335.314353809186 / [GHz] Lower barycentric freq bound, image sideb\n",
       "FRQIMGHI=     336.232238772844 / [GHz] Upper barycentric freq bound, image sideb\n",
       "ASN_ID  = '20061220-4bf8c1a25b9d0cf67eeef7430228b4bf' / Association Identifier  \n",
       "TILENUM =                    1 / Index of this tile (1->NUMTILES)               \n",
       "INSTREAM= 'JCMT    '           / Source of input stream                         \n",
       "DPDATE  = '2014-11-20T09:23:54' / Data processing date                          \n",
       "DPRCINST= 'jac-92883'          / Data processing recipe instance ID             \n",
       "                                                                                \n",
       "                                                                                \n",
       "                               / Provenance:                                    \n",
       "PRVCNT  =                    6 / Number of parents                              \n",
       "PRV1    = 'a20061220_00044_01_0001' / Name of the 1st parent                    \n",
       "PRV2    = 'a20061220_00044_01_0002' / Name of the 2nd parent                    \n",
       "PRV3    = 'a20061220_00044_01_0003' / Name of the 3rd parent                    \n",
       "PRV4    = 'oractempuMu_kY'     / Name of the 4th parent                         \n",
       "PRV5    = 'oractempEjA5Sw'     / Name of the 5th parent                         \n",
       "PRV6    = 'oractempSgkQoo'     / Name of the 6th parent                         \n",
       "OBSCNT  =                    1 / Number of root-ancestor headers                \n",
       "OBS1    = 'acsis_44_20061220T095454_1' / Name of the 1st root ancestor          \n",
       "FILEID  = 'jcmth20061220_00044_01_reduced001_nit_000' / Filename minus extension\n",
       "                                                                                \n",
       "CHECKSUM= '0a7F3T6D0Z6D0Z6D'   / HDU checksum updated 2014-11-20T09:24:00       \n",
       "DATASUM = '1474200105'         / data unit checksum updated 2014-11-20T09:24:00 "
      ]
     },
     "execution_count": 11,
     "metadata": {},
     "output_type": "execute_result"
    }
   ],
   "source": [
    "from starlink import utilities\n",
    "fitsheader = utilities.get_ndf_fitshdr(cube)\n",
    "print(type(fitsheader))\n",
    "fitsheader\n"
   ]
  },
  {
   "cell_type": "markdown",
   "metadata": {},
   "source": [
    "You can then access individual FITS headers just as you do with `pyfits` or `astropy.io.fits` header objects:"
   ]
  },
  {
   "cell_type": "code",
   "execution_count": 12,
   "metadata": {},
   "outputs": [
    {
     "name": "stdout",
     "output_type": "stream",
     "text": [
      "CO 3  - 2 \n",
      " 2006-12-20T09:55:34.018 \n",
      " 20061220 44\n"
     ]
    }
   ],
   "source": [
    "molecule = fitsheader['MOLECULE']\n",
    "transition = fitsheader['TRANSITI']\n",
    "date_obs = fitsheader['DATE-OBS']\n",
    "utdate = fitsheader['UTDATE']\n",
    "obsnum = fitsheader['OBSNUM']\n",
    "print(molecule, transition, '\\n', date_obs, '\\n', utdate, obsnum)"
   ]
  },
  {
   "cell_type": "markdown",
   "metadata": {},
   "source": [
    "### Getting provenance and history information.\n",
    "\n",
    "Unfortunately, the `hislist` and `provshow` commands also write values only to the screen, and we have not yet implemented a utility function to get the values for you. Normally it isn't necessary to read these components in your scripts. You can get the normal output as a string if it is needed in your programby using the `returnstdout=True` keyword argument:"
   ]
  },
  {
   "cell_type": "code",
   "execution_count": 13,
   "metadata": {},
   "outputs": [
    {
     "data": {
      "text/plain": [
       "brief    False\n",
       "  ndf    co32_cube.sdf"
      ]
     },
     "execution_count": 13,
     "metadata": {},
     "output_type": "execute_result"
    }
   ],
   "source": [
    "kappa.hislist(cube)"
   ]
  },
  {
   "cell_type": "code",
   "execution_count": 14,
   "metadata": {},
   "outputs": [
    {
     "name": "stdout",
     "output_type": "stream",
     "text": [
      "brief    False\n",
      "  ndf    co32_cube.sdf\n",
      "\n",
      "   History listing for NDF structure /Users/sarah/SeoulUsersMeeting/Starlink_Analysis/co32_cube:\n",
      "\n",
      "   History structure created 2014 Nov 20 09:22:05.443\n",
      "\n",
      "1: 2014 Nov 20 09:22:05.538 - MAKECUBE        (SMURF V1.6.0)\n",
      "\n",
      "   Parameters: ALIGNSYS=FALSE AUTOGRID=TRUE BADMASK='and' CROTA=0\n",
      "      DETECTORS=! FBL=[1.7235973391403,0.071799010054101]\n",
      "      FBR=[1.7201560002942,0.071799006183432]\n",
      "      FLBND=[1.7201409775556,0.07178446001926,-381.34682629178]\n",
      "      FUBND=[1.7236123539655,0.07521704716548,414.46932659916]\n",
      "      FTL=[1.7235977665515,0.075202393861675]\n",
      "      FTR=[1.7201555650017,0.075202389806852] GENVAR='tsys'\n",
      "      IN=@^oractempXdGhiP INWEIGHT=TRUE JSATILES=FALSE LBND=[-57,-58]\n",
      "      LBOUND=[-57,-58,-940] NPOLBIN=1 NTILE=1 OUT=@ga20061220_44_1_cube\n",
      "      OUTCAT=! PIXREF=[60.461,60.045] PIXSIZE=6 POSERRFATAL=FALSE REF=!\n",
      "      REFLAT='4:12:43.9' REFLON='6:34:37.72' REFPIX1=60.461 REFPIX2=60.045\n",
      "      SPARSE=FALSE SPECBOUNDS='-381.347,414.469' SPECUNION=TRUE\n",
      "      SPREAD='NEAREST' SYSTEM='tracking' TILEBORDER=0 TILEDIMS=-256\n",
      "      TRIM=FALSE TRIMTILES=TRUE UBND=[61,59] UBOUND=[61,59,939]\n",
      "      USEDETPOS=FALSE WEIGHTS=FALSE MSG_FILTER=! QUIET=!\n",
      "   Software: /net/kamaka/export/data/stardev-stable/bin/smurf/smurf_mon\n",
      "   Group: IN=\"a20061220_00044_00_bl001, a20061220_00044_00_bl002,\n",
      "      a20061220_00044_00_bl003\"\n",
      "\n",
      "2: 2014 Nov 20 09:22:22.324 - FITSMOD         (KAPPA 2.2)\n",
      "\n",
      "   Parameters: COMMENT='$<C>' EDIT='update' EXISTS=TRUE KEYWORD='DATE-OBS'\n",
      "      MODE='Interface' NDF=@ga20061220_44_1_cube001 POSITION=!\n",
      "      READONLY=FALSE STRING=TRUE VALUE='2006-12-20T09:54:54' MSG_FILTER=!\n",
      "      QUIET=!\n",
      "   Software: /net/kamaka/export/data/stardev-stable/bin/kappa/ndfpack_mon\n",
      "\n",
      "3: 2014 Nov 20 09:22:22.374 - FITSMOD         (KAPPA 2.2)\n",
      "\n",
      "   Parameters: COMMENT='$<C>' EDIT='update' EXISTS=TRUE KEYWORD='DATE-END'\n",
      "      MODE='Interface' NDF=@ga20061220_44_1_cube001 POSITION=!\n",
      "      READONLY=FALSE STRING=TRUE VALUE='2006-12-20T10:33:33' MSG_FILTER=!\n",
      "      QUIET=!\n",
      "   Software: /net/kamaka/export/data/stardev-stable/bin/kappa/ndfpack_mon\n",
      "\n",
      "4: 2014 Nov 20 09:22:22.884 - ORAC-DR - _CREATE_CUBE_GROUP_ (29bb4c)\n",
      "\n",
      "   Astro::FITS::Header::NDF - write FITS header to file\n",
      "      /export/data/jsa_proc/scratch/000/000092/000092883/2014\n",
      "      -11 -20_08-49-03/ga20061220_44_1_cube001\n",
      "   Arguments: -nodisplay -log hs -verbose -recsuffix ADV,CADC\n",
      "      -batch -loop file -file /tmp/7hzdep6Ydp -recpars\n",
      "      recpars-M06BH23B.ini\n",
      "   Software:\n",
      "      /net/kamaka/export/data/stardev-stable/bin/oracdr/src/b\n",
      "      in/ oracdr\n",
      "\n",
      "5: 2014 Nov 20 09:22:34.018 - SUB             (KAPPA 2.2)\n",
      "\n",
      "   Parameters: IN1=@ga20061220_44_1_cube001 IN2=@oractempS28Rf4\n",
      "      OUT=@ga20061220_44_1_bl001 TITLE=! MSG_FILTER=! QUIET=!\n",
      "   Software: /net/kamaka/export/data/stardev-stable/bin/kappa/kappa_mon\n",
      "\n",
      "6: 2014 Nov 20 09:22:34.759 - SETVAR          (KAPPA 2.2)\n",
      "\n",
      "   Parameters: COMP='VARIANCE' FROM=@ga20061220_44_1_cube001\n",
      "      NDF=@ga20061220_44_1_bl001 MSG_FILTER=! QUIET=!\n",
      "   Software: /net/kamaka/export/data/stardev-stable/bin/kappa/ndfpack_mon\n",
      "\n",
      "7: 2014 Nov 20 09:22:35.894 - ORAC-DR - _REMOVE_BASELINE_THROUGH_SMOOTHING_ ...\n",
      "\n",
      "   Astro::FITS::Header::NDF - write FITS header to file\n",
      "      /export/data/jsa_proc/scratch/000/000092/000092883/2014\n",
      "      -11 -20_08-49-03/ga20061220_44_1_bl001\n",
      "   Arguments: -nodisplay -log hs -verbose -recsuffix ADV,CADC\n",
      "      -batch -loop file -file /tmp/7hzdep6Ydp -recpars\n",
      "      recpars-M06BH23B.ini\n",
      "   Software:\n",
      "      /net/kamaka/export/data/stardev-stable/bin/oracdr/src/b\n",
      "      in/ oracdr\n",
      "\n",
      "8: 2014 Nov 20 09:22:36.027 - SETBB           (KAPPA 2.2)\n",
      "\n",
      "   Parameters: AND=FALSE BB='255' NDF=@ga20061220_44_1_bl001 OR=FALSE\n",
      "      MSG_FILTER=! QUIET=!\n",
      "   Software: /net/kamaka/export/data/stardev-stable/bin/kappa/ndfpack_mon\n",
      "\n",
      "9: 2014 Nov 20 09:22:36.328 - NDFCOPY         (KAPPA 2.2)\n",
      "\n",
      "   Parameters: COMP='DATA' EXTEN=FALSE IN=@ga20061220_44_1_bl001 LIKE=!\n",
      "      OUT=@ga20061220_44_1_reduced001 TITLE=! TRIM=FALSE TRIMBAD=FALSE\n",
      "      TRIMWCS=TRUE MSG_FILTER=! QUIET=!\n",
      "   Software: /net/kamaka/export/data/stardev-stable/bin/kappa/ndfpack_mon\n",
      "\n",
      "10: 2014 Nov 20 09:22:38.077 - ORAC-DR - _TAG_AS_REDUCED_PRODUCT_ (29bb4c)\n",
      "\n",
      "   Astro::FITS::Header::NDF - write FITS header to file\n",
      "      /export/data/jsa_proc/scratch/000/000092/000092883/2014\n",
      "      -11 -20_08-49-03/ga20061220_44_1_reduced001\n",
      "   Arguments: -nodisplay -log hs -verbose -recsuffix ADV,CADC\n",
      "      -batch -loop file -file /tmp/7hzdep6Ydp -recpars\n",
      "      recpars-M06BH23B.ini\n",
      "   Software:\n",
      "      /net/kamaka/export/data/stardev-stable/bin/oracdr/src/b\n",
      "      in/ oracdr\n",
      "\n",
      "11: 2014 Nov 20 09:22:38.215 - SETBB           (KAPPA 2.2)\n",
      "\n",
      "   Parameters: AND=FALSE BB='0' NDF=@ga20061220_44_1_reduced001 OR=FALSE\n",
      "      MSG_FILTER=! QUIET=!\n",
      "   Software: /net/kamaka/export/data/stardev-stable/bin/kappa/ndfpack_mon\n",
      "\n",
      "12: 2014 Nov 20 09:22:41.082 - SETBB           (KAPPA 2.2)\n",
      "\n",
      "   Parameters: AND=FALSE BB='255' NDF=@ga20061220_44_1_reduced001 OR=FALSE\n",
      "      MSG_FILTER=! QUIET=!\n",
      "   Software: /net/kamaka/export/data/stardev-stable/bin/kappa/ndfpack_mon\n",
      "\n",
      "13: 2014 Nov 20 09:23:43.241 - ORAC-DR - _CREATE_MOMENTS_MAPS_THROUGH_SMOOTH...\n",
      "\n",
      "   Astro::FITS::Header::NDF - write FITS header to file\n",
      "      /export/data/jsa_proc/scratch/000/000092/000092883/2014\n",
      "      -11 -20_08-49-03/ga20061220_44_1_reduced001\n",
      "   Arguments: -nodisplay -log hs -verbose -recsuffix ADV,CADC\n",
      "      -batch -loop file -file /tmp/7hzdep6Ydp -recpars\n",
      "      recpars-M06BH23B.ini\n",
      "   Software:\n",
      "      /net/kamaka/export/data/stardev-stable/bin/oracdr/src/b\n",
      "      in/ oracdr\n",
      "\n",
      "14: 2014 Nov 20 09:23:44.445 - SETBB           (KAPPA 2.2)\n",
      "\n",
      "   Parameters: AND=FALSE BB='0' NDF=@ga20061220_44_1_reduced001 OR=FALSE\n",
      "      MSG_FILTER=! QUIET=!\n",
      "   Software: /net/kamaka/export/data/stardev-stable/bin/kappa/ndfpack_mon\n",
      "\n",
      "15: 2014 Nov 20 09:23:44.847 - SETBB           (KAPPA 2.2)\n",
      "\n",
      "   Parameters: AND=FALSE BB='255' NDF=@ga20061220_44_1_reduced001 OR=FALSE\n",
      "      MSG_FILTER=! QUIET=!\n",
      "   Software: /net/kamaka/export/data/stardev-stable/bin/kappa/ndfpack_mon\n",
      "\n",
      "16: 2014 Nov 20 09:23:48.025 - ORAC-DR - _CREATE_MOMENTS_MAPS_THROUGH_SMOOTH...\n",
      "\n",
      "   Astro::FITS::Header::NDF - write FITS header to file\n",
      "      /export/data/jsa_proc/scratch/000/000092/000092883/2014\n",
      "      -11 -20_08-49-03/ga20061220_44_1_reduced001\n",
      "   Arguments: -nodisplay -log hs -verbose -recsuffix ADV,CADC\n",
      "      -batch -loop file -file /tmp/7hzdep6Ydp -recpars\n",
      "      recpars-M06BH23B.ini\n",
      "   Software:\n",
      "      /net/kamaka/export/data/stardev-stable/bin/oracdr/src/b\n",
      "      in/ oracdr\n",
      "\n",
      "17: 2014 Nov 20 09:23:49.451 - ORAC-DR - _CREATE_NOISE_MAP_ (29bb4c)\n",
      "\n",
      "   Astro::FITS::Header::NDF - write FITS header to file\n",
      "      /export/data/jsa_proc/scratch/000/000092/000092883/2014\n",
      "      -11 -20_08-49-03/ga20061220_44_1_reduced001\n",
      "   Arguments: -nodisplay -log hs -verbose -recsuffix ADV,CADC\n",
      "      -batch -loop file -file /tmp/7hzdep6Ydp -recpars\n",
      "      recpars-M06BH23B.ini\n",
      "   Software:\n",
      "      /net/kamaka/export/data/stardev-stable/bin/oracdr/src/b\n",
      "      in/ oracdr\n",
      "\n",
      "18: 2014 Nov 20 09:23:59.727 - jsawrapdr\n",
      "\n",
      "   Arguments: --debugxfer\n",
      "      --outdir=/export/data/jsa_proc/scratch/000/000092/000092883/2014-11-2\n",
      "      8-49-03\n",
      "      --inputs=/net/kamaka/export/data/jsa_proc/input/000/000092/000092883/\n",
      "      ut_files_job.lis --id=jac-92883 --mode=night --cleanup=cadc\n",
      "      --drparameters=-recpars recpars-M06BH23B.ini -persist\n",
      "      --transdir=/net/kamaka/export/data/jsa_proc/output/000/000092/0000928\n",
      "   Software: /net/kamaka/export/data/stardev-stable/Perl/bin/jsawrapdr\n",
      "\n",
      "19: 2014 Nov 20 09:23:59.772 - WCSATTRIB       (KAPPA 2.2)\n",
      "\n",
      "   Parameters: MODE='MSet' NDF=@ga20061220_44_1_reduced001.sdf REMAP=TRUE\n",
      "      SETTING='System(1)=FK5,System(3)=FREQ,StdOfRest=BARY' MSG_FILTER=!\n",
      "      QUIET=!\n",
      "   Software: /net/kamaka/export/data/stardev-stable/bin/kappa/wcsattrib\n",
      "\n",
      "20: 2014 Nov 20 09:23:59.835 - FITSMOD         (KAPPA 2.2)\n",
      "\n",
      "   Parameters: EXISTS=TRUE MODE='File' NDF=@ga20061220_44_1_reduced001.sdf\n",
      "      READONLY=FALSE TABLE=@/tmp/PjQSB6jkf9 MSG_FILTER=! QUIET=!\n",
      "   Software: /net/kamaka/export/data/stardev-stable/bin/kappa/fitsmod\n",
      "\n",
      "21: 2018 Feb 01 06:13:50.548 - WCSATTRIB       (KAPPA 2.5-5)\n",
      "\n",
      "   Parameters: MODE='set' NAME='System' NDF=@co32_cube.sdf NEWVAL='vrad'\n",
      "      REMAP=TRUE STATE=FALSE VALUE='Compound' MSG_FILTER=! QUIET=!\n",
      "   Software: /Users/sarah/star-2017A/bin/kappa/wcsattrib\n",
      "\n",
      "22: 2018 Feb 01 06:13:50.627 - WCSATTRIB       (KAPPA 2.5-5)\n",
      "\n",
      "   Parameters: MODE='set' NAME='StdofRest' NDF=@co32_cube.sdf NEWVAL='LSRK'\n",
      "      REMAP=TRUE STATE=TRUE VALUE='Barycentric' MSG_FILTER=! QUIET=!\n",
      "   Software: /Users/sarah/star-2017A/bin/kappa/wcsattrib\n",
      "\n",
      "\n"
     ]
    }
   ],
   "source": [
    "hislist, histstring = kappa.hislist(cube, returnstdout=True)\n",
    "print(hislist)\n",
    "print(histstring)"
   ]
  },
  {
   "cell_type": "markdown",
   "metadata": {},
   "source": [
    "You would then have to grep this result yourself -- very inconvenient.\n",
    "\n",
    "\n",
    "Technically, you can use the `starlink.hds` package to look at this more programmatically, but it doesn't have any helpful convenience methods. Its very unlikely this is ever worth doing this way, but you could theoretically find out what the `autogrid` value was set to in the original `makecube` gridding command applied to the data by running:"
   ]
  },
  {
   "cell_type": "code",
   "execution_count": 15,
   "metadata": {},
   "outputs": [
    {
     "name": "stdout",
     "output_type": "stream",
     "text": [
      "Parameters: ALIGNSYS=FALSE AUTOGRID=TRUE BADMASK='and' CROTA=0          \n",
      "   DETECTORS=! FBL=[1.7235973391403,0.071799010054101]                  \n",
      "   FBR=[1.7201560002942,0.071799006183432]                              \n",
      "   FLBND=[1.7201409775556,0.07178446001926,-381.34682629178]            \n",
      "   FUBND=[1.7236123539655,0.07521704716548,414.46932659916]             \n",
      "   FTL=[1.7235977665515,0.075202393861675]                              \n",
      "   FTR=[1.7201555650017,0.075202389806852] GENVAR='tsys'                \n",
      "   IN=@^oractempXdGhiP INWEIGHT=TRUE JSATILES=FALSE LBND=[-57,-58]      \n",
      "   LBOUND=[-57,-58,-940] NPOLBIN=1 NTILE=1 OUT=@ga20061220_44_1_cube    \n",
      "   OUTCAT=! PIXREF=[60.461,60.045] PIXSIZE=6 POSERRFATAL=FALSE REF=!    \n",
      "   REFLAT='4:12:43.9' REFLON='6:34:37.72' REFPIX1=60.461 REFPIX2=60.045 \n",
      "   SPARSE=FALSE SPECBOUNDS='-381.347,414.469' SPECUNION=TRUE            \n",
      "   SPREAD='NEAREST' SYSTEM='tracking' TILEBORDER=0 TILEDIMS=-256        \n",
      "   TRIM=FALSE TRIMTILES=TRUE UBND=[61,59] UBOUND=[61,59,939]            \n",
      "   USEDETPOS=FALSE WEIGHTS=FALSE MSG_FILTER=! QUIET=!                   \n",
      "Software: /net/kamaka/export/data/stardev-stable/bin/smurf/smurf_mon    \n",
      "Group: IN=\"a20061220_00044_00_bl001, a20061220_00044_00_bl002,          \n",
      "   a20061220_00044_00_bl003\"                                            \n",
      " Autogrid was set to True\n"
     ]
    }
   ],
   "source": [
    "from starlink import hds\n",
    "hdsloc = hds.open(cube, 'READ')\n",
    "histstruc = hdsloc.find('HISTORY').find('RECORDS')\n",
    "entries = histstruc.shape[0]\n",
    "for i in range(entries):\n",
    "    entry = histstruc.cell([i])\n",
    "    try:\n",
    "        comname  = entry.find('COMMAND').get().decode()\n",
    "        if comname.startswith('MAKECUBE'):\n",
    "            options = entry.find('TEXT').get()\n",
    "            options = '\\n'.join([i.decode() for i in options])\n",
    "            print(options)\n",
    "            if 'AUTOGRID=TRUE' in options:\n",
    "                autogrid = True\n",
    "            else:\n",
    "                autogrid = False\n",
    "    except:\n",
    "        pass\n",
    "print(' Autogrid was set to {}'.format(autogrid))"
   ]
  },
  {
   "cell_type": "markdown",
   "metadata": {},
   "source": [
    "It is not common to need to do this however -- normally examining the history structure isn't required in scripts. Please contact the observatory if you have a usecase where you need to get to this.\n"
   ]
  },
  {
   "cell_type": "markdown",
   "metadata": {},
   "source": [
    "## Measuring Noise in the Map\n",
    "\n",
    "### 1. Comparing noise estimates:\n",
    "**Compare the noise estimated across a blank region of the spectral window with the noise found in the Variance array**\n",
    "\n",
    "In the stand alone Starlink tutorial we identify the blank region of the spectra with Gaia -- we will assume you have already done this. \n",
    "\n",
    "\n",
    "### Aside on Plotting with Starlink within Python\n",
    "\n",
    "Although not everyone wishes to use Starlink generated plots in their papers, it is often helpful to quickly generate images from cubes and maps without converting a file or opening up a new image program. This section shows you how to make a few plots using KAPPA, as either an XWindow which will pop up on your computer, as a PNG or as an EPS appropriate for conversion to PDF. These are then embedded in this jupyter notebook using the jupyter/ipython specific display commands.\n",
    "\n",
    "#### Plotting a spectra:\n",
    "\n",
    "If you wanted to plot a central spectra you could do this by producing a linplot plot on a pop-up Xwindows device: (You have to specify the device every time; this interface may behave strangely if you try and use KAPPA's `gdset` options with XWindows plots.)\n",
    "\n",
    "First of all we will set up a different KAPPA style file, so we don't get multicoloured lines on a black background. To set up sensible plotting defaults, we will create a  `kappa_style.def` file, following the instructions at http://www.starlink.ac.uk/docs/sun95.htx/sun95se7.html#x8-620003   We're going to use the shell command `echo` via the magic jupyter notebook commands accessed with `%`"
   ]
  },
  {
   "cell_type": "code",
   "execution_count": 18,
   "metadata": {},
   "outputs": [],
   "source": [
    "%%script bash\n",
    "echo \"colour(border)=1\" > kappa_style.def\n",
    "echo \"colour(grid)=1\">> kappa_style.def\n",
    "echo \"colour(ticks)=1\">> kappa_style.def\n",
    "echo \"colour(numlab)=1\" >> kappa_style.def\n",
    "echo \"colour(axes)=1\" >> kappa_style.def\n",
    "echo \"colour(keyborder)=1\" >> kappa_style.def"
   ]
  },
  {
   "cell_type": "markdown",
   "metadata": {},
   "source": [
    "We will now set the palette for the XW device to use WHITE for the background and BLACK for the foreground."
   ]
  },
  {
   "cell_type": "code",
   "execution_count": 19,
   "metadata": {},
   "outputs": [
    {
     "name": "stderr",
     "output_type": "stream",
     "text": [
      "INFO:starlink.wrapper:Creating xwindow named xwindows\n",
      "INFO:starlink.wrapper:Creating xwindow named xwindows\n"
     ]
    },
    {
     "data": {
      "text/plain": [
       "palnum    1\n",
       "device    xw\n",
       "colour    Black"
      ]
     },
     "execution_count": 19,
     "metadata": {},
     "output_type": "execute_result"
    }
   ],
   "source": [
    "kappa.palentry(device='xw',palnum=0, colour=\"White\")\n",
    "kappa.palentry(device='xw',palnum=1, colour=\"Black\")"
   ]
  },
  {
   "cell_type": "markdown",
   "metadata": {},
   "source": [
    "This popped up an Xwindows device -- you can safely close this.\n",
    "\n",
    "We could specify our style options by always passing `style='^kappa_style.def`, but we can also set this as a default by saving the name of the style file in the environmental variables `KAPPA_LINPLOT_STYLE` and `KAPPA_DISPLAY_STYLE`. If you wish to use other plotting commands you could also create default plotting options for those commands in this way. We save these in the `wrapper.env` dictionary, which defines the environmental variables which are used when running Starlink commands in this module."
   ]
  },
  {
   "cell_type": "code",
   "execution_count": 20,
   "metadata": {},
   "outputs": [],
   "source": [
    "wrapper.env['KAPPA_LINPLOT_STYLE'] = 'kappa_style.def'\n",
    "wrapper.env['KAPPA_DISPLAY_STYLE'] = 'kappa_style.def'"
   ]
  },
  {
   "cell_type": "markdown",
   "metadata": {},
   "source": [
    "You only have to run this once in a single script.\n",
    "\n",
    "\n",
    "You can now plot the spectrum at PIXEL position (0,0,) (normally near the center of the map) into a pop-up Xwindow with:"
   ]
  },
  {
   "cell_type": "code",
   "execution_count": 21,
   "metadata": {},
   "outputs": [
    {
     "name": "stderr",
     "output_type": "stream",
     "text": [
      "INFO:starlink.wrapper:Creating xwindow named xwindows\n"
     ]
    },
    {
     "data": {
      "text/plain": [
       "  xmap    Default\n",
       "device    xw\n",
       "  mode    Line\n",
       "  comp    Data\n",
       " lmode    Extended\n",
       " clear    True\n",
       "errbar    False\n",
       "   ndf    co32_cube.sdf(0,0,)\n",
       "  ymap    Linear"
      ]
     },
     "execution_count": 21,
     "metadata": {},
     "output_type": "execute_result"
    }
   ],
   "source": [
    "kappa.linplot(ndf=cube + '(0,0,)', device='xw')#Alternatively, add style='^kappa_style.def' to use a style file."
   ]
  },
  {
   "cell_type": "code",
   "execution_count": null,
   "metadata": {},
   "outputs": [],
   "source": []
  },
  {
   "cell_type": "markdown",
   "metadata": {},
   "source": [
    "Note that you can't abbreviate `device=` to `dev=` as you can on the command line. You can use the `kappa.gdset` command\n",
    "however if you wish to not specify `device=` every time.\n",
    "\n",
    "You could also write your images to a PNG file with a white background. The default for the PNG device is White on Black, so we will again need to change the `palentry` options for this device.  Here we're going to try and plot two spectra, one from (0,0) and one from (5,5) on top of each other. The commands to create two PNG files suitable for merging is:"
   ]
  },
  {
   "cell_type": "code",
   "execution_count": 30,
   "metadata": {},
   "outputs": [
    {
     "data": {
      "text/plain": [
       "alignsys    Data\n",
       "   style    !\n",
       "  device    myfile2.png/TPNG\n",
       "    comp    Data\n",
       "    xmap    Default\n",
       "   clear    False\n",
       "  errbar    False\n",
       "     ndf    co32_cube.sdf(5,5,)\n",
       "    mode    Line\n",
       "    ymap    Linear"
      ]
     },
     "execution_count": 30,
     "metadata": {},
     "output_type": "execute_result"
    }
   ],
   "source": [
    "kappa.palentry(device='/PNG',palnum=0,colour=\"White\")\n",
    "kappa.palentry(device='/PNG',palnum=1, colour=\"Black\")\n",
    "kappa.linplot(cube + '(0,0,)', device='myfile.png/PNG')\n",
    "kappa.linplot(cube + '(5,5,)', device='myfile2.png/TPNG', style='+colour(line)=red', clear=False)"
   ]
  },
  {
   "cell_type": "markdown",
   "metadata": {},
   "source": [
    "You can show these PNG files in the jupyter notebook like so:"
   ]
  },
  {
   "cell_type": "code",
   "execution_count": 31,
   "metadata": {},
   "outputs": [
    {
     "data": {
      "image/png": "[encoded data removed]",
      "text/plain": [
       "<IPython.core.display.Image object>"
      ]
     },
     "metadata": {
      "image/png": {
       "width": 500
      }
     },
     "output_type": "display_data"
    },
    {
     "data": {
      "image/png": "[encoded data removed]",
      "text/plain": [
       "<IPython.core.display.Image object>"
      ]
     },
     "metadata": {
      "image/png": {
       "width": 500
      }
     },
     "output_type": "display_data"
    }
   ],
   "source": [
    "from IPython.display import Image, display\n",
    "Image('myfile.png', width=500)\n",
    "Image('myfile2.png', width=500)"
   ]
  },
  {
   "cell_type": "markdown",
   "metadata": {},
   "source": [
    "You can merge these using the ImageMagick convert command, if you have it installed on your computer, and then display the resulting PNG file in the notebook:"
   ]
  },
  {
   "cell_type": "code",
   "execution_count": 32,
   "metadata": {},
   "outputs": [],
   "source": [
    "%%script bash\n",
    "\"convert\" myfile2.png -transparent gray90 myfile2.png\n",
    "\"convert\" myfile.png myfile2.png -composite myfile.png"
   ]
  },
  {
   "cell_type": "code",
   "execution_count": 33,
   "metadata": {},
   "outputs": [
    {
     "data": {
      "image/png": "[encoded data removed]",
      "text/plain": [
       "<IPython.core.display.Image object>"
      ]
     },
     "metadata": {
      "image/png": {
       "width": 500
      }
     },
     "output_type": "display_data"
    }
   ],
   "source": [
    "display(Image('myfile.png', width=500))"
   ]
  },
  {
   "cell_type": "markdown",
   "metadata": {},
   "source": [
    "You can also write to Enscapsulated PostScript files, and then convert to pdf. You should use the 'accumulating' post script device, otherwise you will have to manually merge the files with psmerge. These are:\n",
    "\n",
    "`apscol_p  (/AVCPS)         Accumulating EPS, color, portrait`\n",
    "\n",
    "`apscol_l  (/ACPS)          Accumulating EPS, color, landscape`\n",
    "\n",
    "You should also put sensible Postscript fonts in. You can select any of the standard PGPLOT PostScript fonts: \"Times\", \"Helvetica\", \"Courier\", \"NewCentury\" or  \"Zapf\" by running:"
   ]
  },
  {
   "cell_type": "code",
   "execution_count": 34,
   "metadata": {},
   "outputs": [],
   "source": [
    "kappa.wrapper.env['PGPLOT_PS_FONT'] =  'Helvetica'"
   ]
  },
  {
   "cell_type": "markdown",
   "metadata": {},
   "source": [
    "You can then produce the postscript plots with:"
   ]
  },
  {
   "cell_type": "code",
   "execution_count": 35,
   "metadata": {},
   "outputs": [
    {
     "data": {
      "text/plain": [
       "alignsys    Data\n",
       "   style    !\n",
       "  device    myfile.eps/AVCPS\n",
       "    comp    Data\n",
       "    xmap    Default\n",
       "   clear    False\n",
       "  errbar    False\n",
       "     ndf    co32_cube.sdf(50,50,)\n",
       "    mode    Line\n",
       "    ymap    Linear"
      ]
     },
     "execution_count": 35,
     "metadata": {},
     "output_type": "execute_result"
    }
   ],
   "source": [
    "# These four lines aren't normally necessary, they are just to clear the output\n",
    "# from the accumulating graphics device if you are repeatedly running this in the jupyter notebook .\n",
    "import os\n",
    "if os.path.isfile('myfile.eps'):\n",
    "    os.remove('myfile.eps')\n",
    "kappa.gdclear(device='/AVCPS')\n",
    "\n",
    "# Here are the commands to run this.\n",
    "kappa.linplot(cube + '(0,0,)', device='myfile.eps/AVCPS', style='^kappa_style.def', clear=True)\n",
    "kappa.linplot(cube + '(50,50,)', device='myfile.eps/AVCPS', style='+colour(line)=red', clear=False)"
   ]
  },
  {
   "cell_type": "markdown",
   "metadata": {},
   "source": [
    "We can convert these EPS files into a PDF file so we can easily use it with the ps2pdf command (this will only work if that command is installed on your computer)."
   ]
  },
  {
   "cell_type": "code",
   "execution_count": 36,
   "metadata": {},
   "outputs": [
    {
     "name": "stdout",
     "output_type": "stream",
     "text": [
      "myfile.pdf\n"
     ]
    }
   ],
   "source": [
    "%%script bash\n",
    "# Convert to PDF (assumes you have ps2pdf on your computer)\n",
    "ps2pdf -dEPSCrop myfile.eps\n",
    "ls *.pdf"
   ]
  },
  {
   "cell_type": "markdown",
   "metadata": {},
   "source": [
    "#### Returning to our original task:\n",
    "\n",
    "We have identified the line free region of the map as -265.0 to -78 km/s. We now want to [`collapse`](http://www.starlink.ac.uk/cgi-bin/htxserver/sun95.htx/sun95.html?xref_COLLAPSE) our cube over that range on the third axis, and use either the `estimator='rms'` or `estimator='sigma'` so that we have a measurement of the nosie.\n",
    "\n",
    "(The collapse command is extremely useful, and I recommend exploring the different estimator options in the documentation: http://www.starlink.ac.uk/cgi-bin/htxserver/sun95.htx/sun95.html?xref_COLLAPSE)."
   ]
  },
  {
   "cell_type": "code",
   "execution_count": 38,
   "metadata": {},
   "outputs": [
    {
     "data": {
      "text/plain": [
       "      low    -265.0\n",
       " variance    True\n",
       "estimator    rms\n",
       "     comp    Data\n",
       "     axis    vrad\n",
       "      in_    co32_cube.sdf\n",
       "     trim    True\n",
       "     high    -78.0\n",
       "     wlim    0.3\n",
       "      out    co32_noise.sdf"
      ]
     },
     "execution_count": 38,
     "metadata": {},
     "output_type": "execute_result"
    }
   ],
   "source": [
    "noisemap ='co32_noise.sdf'\n",
    "kappa.collapse(in_=cube, out=noisemap, estimator='rms', low=-265.0, high=-78.0, axis='vrad')"
   ]
  },
  {
   "cell_type": "markdown",
   "metadata": {},
   "source": [
    "We will now use the [`stats`](http://www.starlink.ac.uk/cgi-bin/htxserver/sun95.htx/sun95.html?xref_STATS) command to get the mean and width of the noise distribution across the map."
   ]
  },
  {
   "cell_type": "code",
   "execution_count": 39,
   "metadata": {},
   "outputs": [
    {
     "name": "stdout",
     "output_type": "stream",
     "text": [
      "Noise on map is: 0.83±0.39\n"
     ]
    }
   ],
   "source": [
    "stats = kappa.stats(noisemap)\n",
    "print(u'Noise on map is: {:.2F}±{:.2F}'.format(stats.mean, stats.sigma))"
   ]
  },
  {
   "cell_type": "markdown",
   "metadata": {},
   "source": [
    "For interest, you can plot this noise map as:"
   ]
  },
  {
   "cell_type": "code",
   "execution_count": 40,
   "metadata": {},
   "outputs": [
    {
     "data": {
      "image/png": "[encoded data removed]",
      "text/plain": [
       "<IPython.core.display.Image object>"
      ]
     },
     "metadata": {},
     "output_type": "display_data"
    }
   ],
   "source": [
    "kappa.display(noisemap, mode='percent', percentiles=[20,80],device='noise.png/PNG')\n",
    "display(Image('noise.png'))"
   ]
  },
  {
   "cell_type": "markdown",
   "metadata": {},
   "source": [
    "## Regrid map to 1km/s and check the new noise\n",
    "\n",
    "We can regrid with the [`kappa.sqorst`](http://www.starlink.ac.uk/cgi-bin/htxserver/sun95.htx/sun95.html?xref_SQORST) command. If you look at the `starlink-pywrapper` documentation, you'll see that the Python wrapper thinks that the `factors` argument is a required keyword -- in fact, we are going to use the pixelscale mode, so it won't matter what value we set the factors to be. You can use the '!' character to tell Starlink to accept the default."
   ]
  },
  {
   "cell_type": "code",
   "execution_count": 41,
   "metadata": {},
   "outputs": [
    {
     "name": "stdout",
     "output_type": "stream",
     "text": [
      "3rd axis pixel scale is now 1 km/s\n"
     ]
    }
   ],
   "source": [
    "squashedmap = 'co32_1kms_cube.sdf'\n",
    "kappa.sqorst(in_=cube, out=squashedmap, factors='!', axis=3, mode='pixelscale', pixscale=1.0)\n",
    "ndftrace = kappa.ndftrace(squashedmap)\n",
    "print('3rd axis pixel scale is now {} {}'.format(ndftrace.fpixscale[2], ndftrace.funit[2]))"
   ]
  },
  {
   "cell_type": "markdown",
   "metadata": {},
   "source": [
    "As we did before, we will now `collapse` the cube using the `rms` estimator over our line free region, and calculate the mean of the RMS noise and the width of the noise distribution from `stats`:"
   ]
  },
  {
   "cell_type": "code",
   "execution_count": 42,
   "metadata": {},
   "outputs": [
    {
     "name": "stdout",
     "output_type": "stream",
     "text": [
      "Noise on rebinned map is: 0.59±0.28\n"
     ]
    }
   ],
   "source": [
    "noise1kms = 'co32_1kms_noise.sdf'\n",
    "kappa.collapse(squashedmap, out=noise1kms, estimator='rms', low=-265.0, high=-78.0, axis='vrad')\n",
    "stats1kms = kappa.stats(noise1kms)\n",
    "print(u'Noise on rebinned map is: {:.2F}±{:.2F}'.format(stats1kms.mean, stats1kms.sigma))"
   ]
  },
  {
   "cell_type": "markdown",
   "metadata": {},
   "source": [
    "If you want, you can also checks that this is close to the expected value predicted by the radiometer equation. The radiometer equation says that:\n",
    "\n",
    "$$\\frac{RMS_{old}}{RMS_{new}} = \\sqrt{\\frac{ChanWidth_{old}}{ChanWidth_{new}}}$$"
   ]
  },
  {
   "cell_type": "code",
   "execution_count": 43,
   "metadata": {},
   "outputs": [
    {
     "name": "stdout",
     "output_type": "stream",
     "text": [
      "1.416283867357542\n",
      "1.5369952713656245\n"
     ]
    }
   ],
   "source": [
    "# check this follows the radiometer equation: RMS_old/RMS_new = sqrt(channel_old (ghz)/channel_new (ghz))\n",
    "\n",
    "newchannel_width = float(kappa.ndftrace(cube).fpixscale[2])\n",
    "oldchannel_width = float(kappa.ndftrace(squashedmap).fpixscale[2])\n",
    "\n",
    "import numpy as np\n",
    "print(stats.mean/stats1kms.mean)\n",
    "print(np.sqrt(oldchannel_width/newchannel_width))\n"
   ]
  },
  {
   "cell_type": "markdown",
   "metadata": {},
   "source": [
    "#### We can also compare with the noise in the square root of the Variance array\n",
    "Starlink reduced cubes and maps have a VARIANCE array, and commands like `stats` can access the square root of this array directly by passing the `comp='error'` on the command line."
   ]
  },
  {
   "cell_type": "code",
   "execution_count": 44,
   "metadata": {},
   "outputs": [
    {
     "name": "stdout",
     "output_type": "stream",
     "text": [
      "Noise from VARIANCE component before regridding is 0.78±0.38\n",
      "Noise from VARIANCE component after regridding is 0.55±0.27\n"
     ]
    }
   ],
   "source": [
    "stats_var = kappa.stats(cube, comp='error')\n",
    "stats_var_1kms = kappa.stats(squashedmap, comp='error')\n",
    "print('Noise from VARIANCE component before regridding is {:.2F}±{:.2F}'.format(stats_var.mean, stats_var.sigma))\n",
    "print('Noise from VARIANCE component after regridding is {:.2F}±{:.2F}'.format(stats_var_1kms.mean, stats_var_1kms.sigma))"
   ]
  },
  {
   "cell_type": "markdown",
   "metadata": {},
   "source": [
    "## Masking, Extracting and Trimming\n",
    "\n",
    "### Extract a region using WCS coordinates.\n",
    "\n",
    "Try and extract the region from RA/Dec diagonal corners:(18:53:16, 1:14:35) to (18:53:01, 1:18:27.63) from the `scuba2_map.sdf` file provided for this tutorial.\n",
    "\n",
    "You can use NDF sections for this, along with ndfcopy (see http://www.starlink.ac.uk/cgi-bin/htxserver/sun95.htx/sun95.html?xref_se_ndfsect):"
   ]
  },
  {
   "cell_type": "code",
   "execution_count": 45,
   "metadata": {},
   "outputs": [
    {
     "data": {
      "text/plain": [
       "trimbad    False\n",
       "   comp    DATA\n",
       "    in_    scuba2_map.sdf(18:53:16;18:53:01,1:14:35;1:18:27.63)\n",
       "   trim    False\n",
       "trimwcs    True\n",
       "  exten    False\n",
       "    out    subregion.sdf"
      ]
     },
     "execution_count": 45,
     "metadata": {},
     "output_type": "execute_result"
    }
   ],
   "source": [
    "mapfile = 'scuba2_map.sdf'\n",
    "ndfsection = '(18:53:16;18:53:01,1:14:35;1:18:27.63)' # note no spaces.\n",
    "\n",
    "regionfile = 'subregion.sdf'\n",
    "kappa.ndfcopy(mapfile+ndfsection, out=regionfile)"
   ]
  },
  {
   "cell_type": "code",
   "execution_count": 46,
   "metadata": {},
   "outputs": [
    {
     "name": "stderr",
     "output_type": "stream",
     "text": [
      "DEBUG:starlink.wrapper:['/Users/sarah/star-2017A/bin/kappa/ndftrace', 'subregion.sdf']\n",
      "DEBUG:starlink.wrapper:\n",
      "   NDF structure /Users/sarah/SeoulUsersMeeting/Starlink_Analysis/subregion:\n",
      "      Title:  G34.3\n",
      "      Label:  Flux Density\n",
      "      Units:  mJy/beam\n",
      "\n",
      "   Shape:\n",
      "      No. of dimensions:  2\n",
      "      Dimension size(s):  57 x 59\n",
      "      Pixel bounds     :  11:67, -5:53\n",
      "      Total pixels     :  3363\n",
      "\n",
      "   Data Component:\n",
      "      Type        :  _DOUBLE\n",
      "      Storage form:  SIMPLE\n",
      "      Bad pixels may be present\n",
      "\n",
      "   Variance Component:\n",
      "      Type        :  _DOUBLE\n",
      "      Storage form:  SIMPLE\n",
      "      Bad pixels may be present\n",
      "\n",
      "   Quality Component:\n",
      "      Type        :  _UBYTE\n",
      "      Storage form:  SIMPLE\n",
      "      Bad-bits mask:  0 (binary 00000000)\n",
      "\n",
      "   World Co-ordinate Systems:\n",
      "      Number of co-ordinate Frames: 6\n",
      "\n",
      "      Current co-ordinate Frame (Frame 6):\n",
      "\n",
      "        Frame title         : \"FK5 equatorial coordinates; mean equi...\"\n",
      "        Domain              : SKY\n",
      "        First pixel centre  : 18:53:15.933, 1:14:34.30\n",
      "\n",
      "           Axis 1:\n",
      "              Label              : Right ascension\n",
      "              Units              : hh:mm:ss.sss\n",
      "              Nominal Pixel scale: 4.00000 arc-sec\n",
      "\n",
      "           Axis 2:\n",
      "              Label              : Declination\n",
      "              Units              : ddd:mm:ss.ss\n",
      "              Nominal Pixel scale: 4.00000 arc-sec\n",
      "\n",
      "\n",
      "   Extensions:\n",
      "      SMURF            <SMURF_EXT>\n",
      "      FITS             <_CHAR*80>\n",
      "      PROVENANCE       <PROVENANCE>\n",
      "\n",
      "\n",
      "   History Component:\n",
      "      Created    :  2018 Jan 15 23:11:39\n",
      "      No. records:  15\n",
      "      Last update:  2018 Feb 01 06:16:36 (NDFCOPY         (KAPPA 2.5-5))\n",
      "      Update mode:  NORMAL\n",
      "\n",
      "\n"
     ]
    },
    {
     "name": "stdout",
     "output_type": "stream",
     "text": [
      "   flabel    ['Right ascension', 'Declination']\n",
      "     type    _DOUBLE\n",
      "     fdim    [2, 2, 2, 2, 3, 2]\n",
      "   ubound    [67, 53]\n",
      "  exttype    ['SMURF_EXT', '_CHAR*80', 'PROVENANCE']\n",
      "      ndf    subregion.sdf\n",
      "     dims    [57, 59]\n",
      "     zero    0.0\n",
      "  history    True\n",
      "    fubnd    [4.944813463935276, 0.02282648180847199]\n",
      "  fullwcs    False\n",
      "  current    6\n",
      "    label    Flux Density\n",
      "     form    SIMPLE\n",
      "    units    mJy/beam\n",
      "  extname    ['SMURF', 'FITS', 'PROVENANCE']\n",
      "    scale    1.0\n",
      "    title    G34.3\n",
      "  quality    True\n",
      " fullaxis    False\n",
      "     ndim    2\n",
      "fullframe    False\n",
      "  fdomain    ['GRID', 'PIXEL', 'AXIS', 'FRACTION', 'SKY-SPECTRUM', 'SKY']\n",
      "    nextn    3\n",
      "   lbound    [11, -5]\n",
      " variance    True\n",
      "      wcs    True\n",
      "   nframe    6\n",
      "fpixscale    ['4.00000', '4.00000']\n",
      "     axis    False\n",
      "      bad    True\n",
      "    funit    ['hh:mm:ss.sss', 'ddd:mm:ss.ss']\n",
      "    flbnd    [4.943707797390446, 0.02168230422841354]\n",
      "  badbits    00000000\n",
      "   ftitle    [ Data grid indices; first pixel at (1,1)\n",
      "               Pixel coordinates; first pixel at (10.5,-5.5)\n",
      "               Axis coordinates; first pixel at (10.5,-5.5)\n",
      "               Normalised pixel coordinates; first pixel at (0.00877193,0.008474576)\n",
      "               3-d compound coordinate system\n",
      "               FK5 equatorial coordinates; mean equinox J2000.0\n",
      "             ]\n"
     ]
    }
   ],
   "source": [
    "logging.root.setLevel('DEBUG')\n",
    "print(kappa.ndftrace(regionfile))\n",
    "logging.root.setLevel('INFO')"
   ]
  },
  {
   "cell_type": "markdown",
   "metadata": {},
   "source": [
    "### Crop a SCUBA-2 map with PICARD\n",
    "\n",
    "Picard is availabe as its own module:"
   ]
  },
  {
   "cell_type": "code",
   "execution_count": 47,
   "metadata": {},
   "outputs": [
    {
     "name": "stdout",
     "output_type": "stream",
     "text": [
      "calc_scuba2_avpspec      : Run PICARD'S CALC_SCUBA2_AVPSPEC recipe.\n",
      "calc_scuba2_fcf          : Run PICARD'S CALC_SCUBA2_FCF recipe.\n",
      "calc_scuba2_nefd         : Run PICARD'S CALC_SCUBA2_NEFD recipe.\n",
      "calibrate_scuba2_data    : Run PICARD'S CALIBRATE_SCUBA2_DATA recipe.\n",
      "coadd_jsa_tiles          : Run PICARD'S COADD_JSA_TILES recipe.\n",
      "create_moments_map       : Run PICARD'S CREATE_MOMENTS_MAP recipe.\n",
      "create_png               : Run PICARD'S CREATE_PNG recipe.\n",
      "crop_scuba2_images       : Run PICARD'S CROP_SCUBA2_IMAGES recipe.\n",
      "estimate_image_alignment : Run PICARD'S ESTIMATE_IMAGE_ALIGNMENT recipe.\n",
      "jsa_catalogue            : Run PICARD'S JSA_CATALOGUE recipe.\n",
      "mosaic_jcmt_images       : Run PICARD'S MOSAIC_JCMT_IMAGES recipe.\n",
      "picard_demonstrator      : Run PICARD'S PICARD_DEMONSTRATOR recipe.\n",
      "scuba2_check_cal         : Run PICARD'S SCUBA2_CHECK_CAL recipe.\n",
      "scuba2_check_rms         : Run PICARD'S SCUBA2_CHECK_RMS recipe.\n",
      "scuba2_display_pca       : Run PICARD'S SCUBA2_DISPLAY_PCA recipe.\n",
      "scuba2_jackknife         : Run PICARD'S SCUBA2_JACKKNIFE recipe.\n",
      "scuba2_jackknife_psf     : Run PICARD'S SCUBA2_JACKKNIFE_PSF recipe.\n",
      "scuba2_map_pspec         : Run PICARD'S SCUBA2_MAP_PSPEC recipe.\n",
      "scuba2_mapstats          : Run PICARD'S SCUBA2_MAPSTATS recipe.\n",
      "scuba2_matched_filter    : Run PICARD'S SCUBA2_MATCHED_FILTER recipe.\n",
      "scuba2_photom            : Run PICARD'S SCUBA2_PHOTOM recipe.\n",
      "scuba2_register_images   : Run PICARD'S SCUBA2_REGISTER_IMAGES recipe.\n",
      "scuba2_remove_background : Run PICARD'S SCUBA2_REMOVE_BACKGROUND recipe.\n",
      "scuba2_sassy             : Run PICARD'S SCUBA2_SASSY recipe.\n",
      "stack_jcmt_frames        : Run PICARD'S STACK_JCMT_FRAMES recipe.\n",
      "uncalibrate_scuba2_data  : Run PICARD'S UNCALIBRATE_SCUBA2_DATA recipe.\n",
      "untrim_jsa_tiles         : Run PICARD'S UNTRIM_JSA_TILES recipe."
     ]
    }
   ],
   "source": [
    "from starlink import picard, utilities\n",
    "utilities.starhelp(picard)"
   ]
  },
  {
   "cell_type": "markdown",
   "metadata": {},
   "source": [
    "Unfortunately, the help for these recipe-specific PICARD commands has not yet been created, so `?` and `help()` don' show you the call signature. The actual command you need to use is the same as that of the `wrapper.picard` command, but without specifying the recipe. Please see the Starlink PICARD documentation (http://www.starlink.ac.uk/cgi-bin/htxserver/sun265.htx/sun265.html for full details on what the recipes actually do."
   ]
  },
  {
   "cell_type": "code",
   "execution_count": 48,
   "metadata": {},
   "outputs": [
    {
     "name": "stdout",
     "output_type": "stream",
     "text": [
      "Help on function picard in module starlink.wrapper:\n",
      "\n",
      "picard(recipe, files, dataout=None, recpars=None, oracdir=None, verbose=False, debug=False, warn=False)\n",
      "    Run a picard recipe on a group of files.\n",
      "    \n",
      "    Arguments\n",
      "    ----------\n",
      "    recipe: str\n",
      "        Name of instrument\n",
      "    \n",
      "    files: str or list of str\n",
      "        If str: name of textfile containing list of files. If list: list\n",
      "        of input files. All paths interpreted relative to current\n",
      "        directory.\n",
      "    \n",
      "    Keyword Arguments\n",
      "    ------------------\n",
      "    dataout: str\n",
      "        Location of output data directory; defaults to curr dir.\n",
      "    \n",
      "    recpars: str\n",
      "         Passed to the picard --recpars option.\n",
      "    \n",
      "    oracdir: str\n",
      "       Specify a custom ORAC src tree directory; by default\n",
      "       <starpath>/bin/oracdr/src will be used.\n",
      "    \n",
      "    verbose: bool\n",
      "        provide output from Starlink commands in log/stdout\n",
      "    \n",
      "    debug: bool\n",
      "        Provide debug output.\n",
      "    \n",
      "    warn: bool\n",
      "        Show Perl warning messages in stdout.\n",
      "    \n",
      "    Returns\n",
      "    --------\n",
      "    Return value is a named tuple with the following attributes:\n",
      "    \n",
      "     - runlog: name of output logfile.\n",
      "     - outputdir: path of output directory\n",
      "     - datafiles: list of output data files.\n",
      "     - imagefiles: list of output image files.\n",
      "     - logfiles: list of log.* files\n",
      "     - status: int, return code from suprocess.Popen\n",
      "     - pid (int): pid of perl parent process.\n",
      "\n"
     ]
    }
   ],
   "source": [
    "help(wrapper.picard)"
   ]
  },
  {
   "cell_type": "markdown",
   "metadata": {},
   "source": [
    "We are going to run the `picard.crop_scuba2_images` on this command. By default this will crop a square containing the requested area, from the values in the FITS headers. We have to provide the input list of filenames as a list, even if there is only one file. If we provided a string, `picard` expects that to be the name of a file containing nothing but input filenames, one per line."
   ]
  },
  {
   "cell_type": "code",
   "execution_count": 49,
   "metadata": {},
   "outputs": [
    {
     "name": "stderr",
     "output_type": "stream",
     "text": [
      "DEBUG:starlink.wrapper:Working output directory for ORAC-DR is /Users/sarah/SeoulUsersMeeting/Starlink_Analysis/PICARDworking8jvrv_sa.\n",
      "INFO:starlink.wrapper:Running /Users/sarah/star-2017A/Perl/bin/perl /Users/sarah/star-2017A/bin/oracdr/src/bin/picard -log=sf -nodisplay CROP_SCUBA2_IMAGES scuba2_map.sdf.\n"
     ]
    },
    {
     "name": "stdout",
     "output_type": "stream",
     "text": [
      "oracoutput(runlog='/Users/sarah/SeoulUsersMeeting/Starlink_Analysis/PICARDworking8jvrv_sa/picard_82672.log', outdir='/Users/sarah/SeoulUsersMeeting/Starlink_Analysis/PICARDworking8jvrv_sa', datafiles=['/Users/sarah/SeoulUsersMeeting/Starlink_Analysis/PICARDworking8jvrv_sa/adam_8267.sdf', '/Users/sarah/SeoulUsersMeeting/Starlink_Analysis/PICARDworking8jvrv_sa/scuba2_map_crop.sdf'], imagefiles=[], logfiles=['/Users/sarah/SeoulUsersMeeting/Starlink_Analysis/PICARDworking8jvrv_sa/log.group'], status=0, pid=82672)\n"
     ]
    }
   ],
   "source": [
    "logging.root.setLevel(logging.DEBUG)\n",
    "\n",
    "# Note that the files have to be a list if you are providing the filenames, even if you only provide one.\n",
    "picardoutput = picard.crop_scuba2_images([mapfile])\n",
    "print(picardoutput)\n",
    "logging.root.setLevel(logging.INFO)"
   ]
  },
  {
   "cell_type": "markdown",
   "metadata": {},
   "source": [
    "The output value is a `namedtuple` object containing various useful information about the run.\n",
    "\n",
    "We can look at the log (which was printed to screen in the terminal where you ran up the jupyter notebook) with:"
   ]
  },
  {
   "cell_type": "code",
   "execution_count": 50,
   "metadata": {},
   "outputs": [
    {
     "name": "stdout",
     "output_type": "stream",
     "text": [
      "/Users/sarah/SeoulUsersMeeting/Starlink_Analysis/PICARDworking8jvrv_sa/picard_82672.log\n",
      "PICARD logfile - created on Thu Feb  1 06:16:37 2018 UT\n",
      "\n",
      "ORAC Environment:\n",
      "\n",
      "\tPipeline Version: 8ddff2d39647\n",
      "\tInstrument : <not required>\n",
      "\tInput  Dir : <undefined>\n",
      "\tOutput Dir : /Users/sarah/SeoulUsersMeeting/Starlink_Analysis/PICARDworking8jvrv_sa\n",
      "\tCalibration: <undefined>\n",
      "\tORAC   Dir : /Users/sarah/star-2017A/bin/oracdr/src\n",
      "\tORAC   Lib : /Users/sarah/star-2017A/bin/oracdr/src/lib/perl5\n",
      "\tAdditional Recipe Dir   : <undefined>\n",
      "\tAdditional Primitive Dir : <undefined>\n",
      "\n",
      "System environment:\n",
      "\n",
      "\tHostname        : phlebas.local\n",
      "\tUser name       : \n",
      "\tPerl version    : 5.018002\n",
      "\tOperating System: darwin\n",
      "\tSystem description: Darwin phlebas.local 14.5.0 Darwin Kernel Version 14.5.0: Mon Aug 29 21:14:16 PDT 2016; root:xnu-2782.50.6~1/RELEASE_X86_64 x86_64\n",
      "\n",
      "\n",
      "PICARD Arguments: -log=sf -nodisplay CROP_SCUBA2_IMAGES scuba2_map.sdf\n",
      "\n",
      "Session:\n",
      "\n",
      "\u001b[34mPicard Says: No display will be used\n",
      "\u001b[0m\u001b[34mPicard Says: Pre-starting mandatory monoliths...\u001b[0m\u001b[34mDone\n",
      "\u001b[0m\u001b[35mChecking for next data file: /Users/sarah/SeoulUsersMeeting/Starlink_Analysis/scuba2_map.sdf\n",
      "\u001b[0m\u001b[33mStoring: scuba2_map\n",
      "\u001b[0m\u001b[36mPicard Says: Creating temporary bad observation rules file\n",
      "\u001b[0m\u001b[34mA new group 20120501#-1 has been created\n",
      "\u001b[0m\u001b[33mOverriding PICARD instrument class to PICARD_SCUBA2_850\n",
      "\u001b[0m\u001b[35mSorting Groups\n",
      "\u001b[0m\u001b[33mREDUCING: scuba2_map\n",
      "\u001b[0m\u001b[35mUsing recipe CROP_SCUBA2_IMAGES specified on command-line\n",
      "\u001b[0m\u001b[35mProcessing data for G34.3\n",
      "\u001b[0m\u001b[33m\n",
      "Calling _CROP_SCUBA2_IMAGE_: trim image to specified map size\n",
      "\u001b[0m\u001b[35mTrimming image to specified map size\n",
      "\u001b[0m\u001b[35mTrimming scuba2_map...\n",
      "\u001b[0m\u001b[35mCropping map using: RA= 18:53:18.6, Dec= 01:14:58.26, RADIUS=120.\n",
      "\u001b[0m\u001b[35mRemoving temporary files...\n",
      "\u001b[0m\u001b[35mChecking scuba2_map_crop...\t\u001b[0m\u001b[32mKeeping extension\n",
      "\u001b[0m\u001b[35mRecipe took 0.572 seconds to evaluate and execute.\n",
      "\n",
      "\u001b[0m\u001b[32mPicard processing complete\n",
      "\u001b[0m\u001b[32mProcessed one recipe which completed successfully\n",
      "\u001b[0m\n"
     ]
    }
   ],
   "source": [
    "print(picardoutput.runlog)\n",
    "with open(picardoutput.runlog) as f:\n",
    "    a = f.readlines()\n",
    "print(''.join(a))"
   ]
  },
  {
   "cell_type": "markdown",
   "metadata": {},
   "source": [
    "We can also see the output files in the `.datafiles` attribute of the output, and display them with the KAPPA display command:"
   ]
  },
  {
   "cell_type": "code",
   "execution_count": 51,
   "metadata": {},
   "outputs": [
    {
     "data": {
      "text/plain": [
       "['/Users/sarah/SeoulUsersMeeting/Starlink_Analysis/PICARDworking8jvrv_sa/adam_8267.sdf',\n",
       " '/Users/sarah/SeoulUsersMeeting/Starlink_Analysis/PICARDworking8jvrv_sa/scuba2_map_crop.sdf']"
      ]
     },
     "execution_count": 51,
     "metadata": {},
     "output_type": "execute_result"
    }
   ],
   "source": [
    "picardoutput.datafiles"
   ]
  },
  {
   "cell_type": "markdown",
   "metadata": {},
   "source": [
    "Here you can see we have a 'adam_XXXX.sdf' file; I believe this may be a remnant of an ongoing problem with long path names in Starlink -- it shouldn't affect your data (and you may or may not have one). We will now create an image of this cropped map and display it in the jupyter notebook."
   ]
  },
  {
   "cell_type": "code",
   "execution_count": 52,
   "metadata": {},
   "outputs": [
    {
     "data": {
      "image/png": "[encoded data removed]",
      "text/plain": [
       "<IPython.core.display.Image object>"
      ]
     },
     "metadata": {},
     "output_type": "display_data"
    }
   ],
   "source": [
    "cropfile = picardoutput.datafiles[1]\n",
    "kappa.lutable(mapping='linear', coltab='external', lut='$KAPPA_DIR/warm_lut', device='/PNG')\n",
    "kappa.display(cropfile, mode='faint', device='cropping.png/PNG')\n",
    "display(Image('cropping.png'))"
   ]
  },
  {
   "cell_type": "markdown",
   "metadata": {},
   "source": [
    "Alternatively, we could crop using a CIRCLE, by passing a recpars file determining the CROP_METHOD and the MAP_RADIUS:"
   ]
  },
  {
   "cell_type": "code",
   "execution_count": 53,
   "metadata": {},
   "outputs": [
    {
     "name": "stdout",
     "output_type": "stream",
     "text": [
      "[CROP_SCUBA2_IMAGES]\r\n",
      "CROP_METHOD=CIRCLE\r\n",
      "MAP_RADIUS=200.0\r\n"
     ]
    },
    {
     "name": "stderr",
     "output_type": "stream",
     "text": [
      "INFO:starlink.wrapper:Running /Users/sarah/star-2017A/Perl/bin/perl /Users/sarah/star-2017A/bin/oracdr/src/bin/picard -log=sf -nodisplay -recpars=recpars.lis CROP_SCUBA2_IMAGES scuba2_map.sdf.\n"
     ]
    },
    {
     "name": "stdout",
     "output_type": "stream",
     "text": [
      "/Users/sarah/SeoulUsersMeeting/Starlink_Analysis/PICARDworkingb6_hbce9/picard_82753.log\n",
      "PICARD logfile - created on Thu Feb  1 06:16:40 2018 UT\n",
      "\n",
      "ORAC Environment:\n",
      "\n",
      "\tPipeline Version: 8ddff2d39647\n",
      "\tInstrument : <not required>\n",
      "\tInput  Dir : <undefined>\n",
      "\tOutput Dir : /Users/sarah/SeoulUsersMeeting/Starlink_Analysis/PICARDworkingb6_hbce9\n",
      "\tCalibration: <undefined>\n",
      "\tORAC   Dir : /Users/sarah/star-2017A/bin/oracdr/src\n",
      "\tORAC   Lib : /Users/sarah/star-2017A/bin/oracdr/src/lib/perl5\n",
      "\tAdditional Recipe Dir   : <undefined>\n",
      "\tAdditional Primitive Dir : <undefined>\n",
      "\n",
      "System environment:\n",
      "\n",
      "\tHostname        : phlebas.local\n",
      "\tUser name       : \n",
      "\tPerl version    : 5.018002\n",
      "\tOperating System: darwin\n",
      "\tSystem description: Darwin phlebas.local 14.5.0 Darwin Kernel Version 14.5.0: Mon Aug 29 21:14:16 PDT 2016; root:xnu-2782.50.6~1/RELEASE_X86_64 x86_64\n",
      "\n",
      "\n",
      "PICARD Arguments: -log=sf -nodisplay -recpars=recpars.lis CROP_SCUBA2_IMAGES scuba2_map.sdf\n",
      "\n",
      "Session:\n",
      "\n",
      "\u001b[34mPicard Says: No display will be used\n",
      "\u001b[0m\u001b[34mPicard Says: Pre-starting mandatory monoliths...\u001b[0m\u001b[34mDone\n",
      "\u001b[0m\u001b[35mChecking for next data file: /Users/sarah/SeoulUsersMeeting/Starlink_Analysis/scuba2_map.sdf\n",
      "\u001b[0m\u001b[33mStoring: scuba2_map\n",
      "\u001b[0m\u001b[36mPicard Says: Creating temporary bad observation rules file\n",
      "\u001b[0m\u001b[34mA new group 20120501#-1 has been created\n",
      "\u001b[0m\u001b[33mOverriding PICARD instrument class to PICARD_SCUBA2_850\n",
      "\u001b[0m\u001b[35mSorting Groups\n",
      "\u001b[0m\u001b[33mREDUCING: scuba2_map\n",
      "\u001b[0m\u001b[35mUsing recipe CROP_SCUBA2_IMAGES specified on command-line\n",
      "\u001b[0m\u001b[35mProcessing data for G34.3\n",
      "\u001b[0m\u001b[33m\n",
      "Calling _CROP_SCUBA2_IMAGE_: trim image to specified map size\n",
      "\u001b[0m\u001b[35mTrimming image to specified map size\n",
      "\u001b[0m\u001b[35mOutput image will be a circle of radius 200.0 arcsec\n",
      "\u001b[0m\u001b[35mMasking the weights and exposure time images...\n",
      "\u001b[0m\u001b[35mRemoving temporary files...\n",
      "\u001b[0m\u001b[35mChecking scuba2_map_tmpmask...\t\u001b[0m\u001b[31mRemoving\n",
      "\u001b[0m\u001b[35mChecking scuba2_map_crop...\t\u001b[0m\u001b[32mKeeping extension\n",
      "\u001b[0m\u001b[35mRecipe took 0.843 seconds to evaluate and execute.\n",
      "\n",
      "\u001b[0m\u001b[32mPicard processing complete\n",
      "\u001b[0m\u001b[32mProcessed one recipe which completed successfully\n",
      "\u001b[0m\n"
     ]
    }
   ],
   "source": [
    "with open('recpars.lis', 'w') as f:\n",
    "    f.write('[CROP_SCUBA2_IMAGES]\\nCROP_METHOD=CIRCLE\\nMAP_RADIUS=200.0\\n')\n",
    "\n",
    "%cat recpars.lis\n",
    "\n",
    "picardoutput = picard.crop_scuba2_images([mapfile], recpars='recpars.lis')\n",
    "print(picardoutput.runlog)\n",
    "with open(picardoutput.runlog) as f:\n",
    "    a = f.readlines()\n",
    "print(''.join(a))"
   ]
  },
  {
   "cell_type": "code",
   "execution_count": 54,
   "metadata": {},
   "outputs": [
    {
     "name": "stdout",
     "output_type": "stream",
     "text": [
      "['/Users/sarah/SeoulUsersMeeting/Starlink_Analysis/PICARDworkingb6_hbce9/adam_8275.sdf', '/Users/sarah/SeoulUsersMeeting/Starlink_Analysis/PICARDworkingb6_hbce9/scuba2_map_crop.sdf']\n"
     ]
    },
    {
     "data": {
      "image/png": "[encoded data removed]",
      "text/plain": [
       "<IPython.core.display.Image object>"
      ]
     },
     "metadata": {},
     "output_type": "display_data"
    }
   ],
   "source": [
    "print(picardoutput.datafiles)\n",
    "kappa.display(picardoutput.datafiles[1], mode='faint', device='cropping2.png/PNG')\n",
    "display(Image('cropping2.png'))"
   ]
  },
  {
   "cell_type": "markdown",
   "metadata": {},
   "source": [
    "### ARD Masking\n",
    "**Extract out a ring of inner radius 70″, outer radius 100″ and centered on RA=18:53:18.7, Dec=1:14:54.3.**\n",
    "\n",
    "\n",
    "We will use the [`ARDMASK`](http://www.starlink.ac.uk/cgi-bin/htxserver/sun95.htx/sun95.html?xref_ARDMASK) command to do this. First we create an ARD File, following the documentation at http://www.starlink.ac.uk/docs/sun183.htx/sun183.html"
   ]
  },
  {
   "cell_type": "code",
   "execution_count": 55,
   "metadata": {},
   "outputs": [
    {
     "name": "stdout",
     "output_type": "stream",
     "text": [
      "COFRAME(SKY, SYSTEM=FK5, equinox=2000)\r\n",
      "CIRCLE(18:53:18.7,1:14:54.3, :1:40.) .AND. .NOT. CIRCLE(18:53:18.7,1:14:54.3, :1:10.0)\r\n"
     ]
    }
   ],
   "source": [
    "ardtext = \"\"\"COFRAME(SKY, SYSTEM=FK5, equinox=2000)\n",
    "CIRCLE(18:53:18.7,1:14:54.3, :1:40.) .AND. .NOT. CIRCLE(18:53:18.7,1:14:54.3, :1:10.0)\n",
    "\"\"\"\n",
    "with open('ARDMASK.dat', 'w') as f:\n",
    "    f.write(ardtext)\n",
    "\n",
    "%cat ARDMASK.dat"
   ]
  },
  {
   "cell_type": "markdown",
   "metadata": {},
   "source": [
    "We can then perform the masking. We will set `inside=False` as we wish to set the regions outside the mask as BAD."
   ]
  },
  {
   "cell_type": "code",
   "execution_count": 56,
   "metadata": {},
   "outputs": [
    {
     "data": {
      "text/plain": [
       "    in_    scuba2_map.sdf(,)\n",
       "   comp    ALL\n",
       " inside    False\n",
       "  const    BAD\n",
       "ardfile    ARDMASK.dat\n",
       " defpix    True\n",
       "    out    scuba2_annulus.sdf"
      ]
     },
     "execution_count": 56,
     "metadata": {},
     "output_type": "execute_result"
    }
   ],
   "source": [
    "maskedfile = 'scuba2_annulus.sdf'\n",
    "kappa.ardmask(mapfile + '(,)', ardfile='ARDMASK.dat', out=maskedfile, inside=False)"
   ]
  },
  {
   "cell_type": "markdown",
   "metadata": {},
   "source": [
    "And then we can view the image as normal:"
   ]
  },
  {
   "cell_type": "code",
   "execution_count": 57,
   "metadata": {},
   "outputs": [
    {
     "data": {
      "image/png": "[encoded data removed]",
      "text/plain": [
       "<IPython.core.display.Image object>"
      ]
     },
     "metadata": {},
     "output_type": "display_data"
    }
   ],
   "source": [
    "kappa.display(maskedfile, mode='faint', device='myfile.png/PNG')\n",
    "display(Image('myfile.png'))"
   ]
  },
  {
   "cell_type": "markdown",
   "metadata": {},
   "source": [
    "## Masking based on SNR\n",
    "\n",
    "**Mask out all pixels in a cube or map with a detection of less than 5 sigma (try using `errclip`).**\n",
    "\n",
    "[`errclip`](http://www.starlink.ac.uk/cgi-bin/htxserver/sun95.htx/sun95.html?xref_ERRCLIP) in KAPPA will mask out regions below a specified SNR limit, based on the Variance array in an NDF file. It can be used like:\n"
   ]
  },
  {
   "cell_type": "code",
   "execution_count": 58,
   "metadata": {},
   "outputs": [
    {
     "data": {
      "text/plain": [
       "  in_    co32_cube.sdf\n",
       "limit    5.0\n",
       " mode    SNR\n",
       "  out    co32_5sigmaclipped.sdf"
      ]
     },
     "execution_count": 58,
     "metadata": {},
     "output_type": "execute_result"
    }
   ],
   "source": [
    "kappa.errclip(cube, mode='SNR', out='co32_5sigmaclipped.sdf', limit=5.0)"
   ]
  },
  {
   "cell_type": "markdown",
   "metadata": {},
   "source": [
    "Open the resulting map in Gaia (co32_5sigmaclipped.sdf) and take a look at it: you’ll see that the baseline and linewing regions are marked as bad, and only the strong parts of the line centre in bright regions are remaining."
   ]
  },
  {
   "cell_type": "markdown",
   "metadata": {},
   "source": [
    "### More advanced SNR masking\n",
    "**Mask out all spectra in a cube where the peak of the spectra has a detection of less than 5 sigma. Try using makesnr, thresh, manic and copybad.**\n",
    "\n",
    "\n",
    "First of all we will `collapse` the cube using the 'max' estimator to find out the brightness of the peak in each line, then we will create an SNR map of this using the default variance array (which is appropriately updated when we ran collapse). We threshold ([`thresh`](http://www.starlink.ac.uk/cgi-bin/htxserver/sun95.htx/sun95.html?xref_THRESH)) all pixels with an SNR of less than 5 in this collapsed map. \n",
    "\n",
    "We will then use the [`manic`](http://www.starlink.ac.uk/cgi-bin/htxserver/sun95.htx/sun95.html?xref_MANIC) command to create a mask that can be applied to a cube, by repeating the 2-D map across the correct plane (we have to use ndftrace to get the pixel boundaries of the original cube). We then use [`copybad`](http://www.starlink.ac.uk/cgi-bin/htxserver/sun95.htx/sun95.html?xref_COPYBAD) to copy over the bad pxiel mask to the cube."
   ]
  },
  {
   "cell_type": "code",
   "execution_count": 59,
   "metadata": {},
   "outputs": [
    {
     "name": "stdout",
     "output_type": "stream",
     "text": [
      "Pixel bounds of cube 3rd axis are:-940 to 939\n"
     ]
    },
    {
     "data": {
      "text/plain": [
       "   ref    snrmask_5sig_3d.sdf\n",
       " ngood    17245240\n",
       "   in_    co32_cube.sdf\n",
       "invert    False\n",
       "  nbad    9153720\n",
       "   out    co32_5sigpeak.sdf"
      ]
     },
     "execution_count": 59,
     "metadata": {},
     "output_type": "execute_result"
    }
   ],
   "source": [
    "# Create the cube of the maximum brightness in each spectra.\n",
    "maxcollapsed = 'co32_max.sdf'\n",
    "kappa.collapse(in_=cube, out=maxcollapsed, axis='vrad', estimator='max')\n",
    "\n",
    "# Create an SNR map from this collapsed cube.\n",
    "snrmap = 'max_snr.sdf'\n",
    "kappa.makesnr(in_=maxcollapsed, out=snrmap, minvar=0.0)\n",
    "\n",
    "# Now crop out all pixels with an SNR of less than 5: note that we have to use a 'fake' THRHI and NEWHI value that\n",
    "# is far higher than we reached in our map.\n",
    "mask2d = 'snrmask_5sig_2d.sdf'\n",
    "kappa.thresh(in_=snrmap, thrlo=5.0, newlo='bad', thrhi=10000.0, newhi='bad', out=mask2d)\n",
    "\n",
    "# Use ndftrace to check the pixel bounds of the original cube.\n",
    "ndftrace = kappa.ndftrace(cube)\n",
    "print('Pixel bounds of cube 3rd axis are:{} to {}'.format(ndftrace.lbound[2], ndftrace.ubound[2]))\n",
    "\n",
    "# use those bounds to create a 3-D mask with the correct PIXEL values.\n",
    "mask3d = 'snrmask_5sig_3d.sdf'\n",
    "kappa.manic(in_=mask2d, out=mask3d, axes=[1,2,0], ubound=ndftrace.ubound[2], lbound=ndftrace.lbound[2] )\n",
    "\n",
    "\n",
    "# Copy over the BAD values from the 3-D mask to a copy of the original CUBE\n",
    "maskedcube = 'co32_5sigpeak.sdf'\n",
    "kappa.copybad(in_=cube, ref=mask3d, out=maskedcube)"
   ]
  },
  {
   "cell_type": "code",
   "execution_count": null,
   "metadata": {},
   "outputs": [],
   "source": []
  },
  {
   "cell_type": "markdown",
   "metadata": {},
   "source": [
    "You can then open this output cube 'co32_5sigpeak.sdf' in Gaia if you wish to explore it.\n",
    "\n",
    "\n",
    "## Extracting values\n",
    "**Using the co32_cube.sdf provided with this tutorial, extract spectra from the following coordinates:\n",
    "6:34:37.7,4:12:37.20, 6:34;32.77,4:13:09.77, 6:34:24.47, 4:08:56.91**\n",
    "\n",
    "\n",
    "We will use [`pluck`](http://www.starlink.ac.uk/cgi-bin/htxserver/sun95.htx/sun95.html?xref_PLUCK) to extract the spectra out into a container SDF file:"
   ]
  },
  {
   "cell_type": "code",
   "execution_count": 60,
   "metadata": {},
   "outputs": [
    {
     "data": {
      "text/plain": [
       "     coin    spectra_positions.txt\n",
       " describe    False\n",
       "container    True\n",
       "     mode    file\n",
       "      in_    co32_cube.sdf\n",
       "      tol    0.05\n",
       "     axes    vrad\n",
       "   method    linear\n",
       "      out    /Users/sarah/SeoulUsersMeeting/Starlink_Analysis/container_spectra.PLUCK_3"
      ]
     },
     "execution_count": 60,
     "metadata": {},
     "output_type": "execute_result"
    }
   ],
   "source": [
    "positions = ['6:34:37.7 4:12:37.20', '6:34:32.77 4:13:09.77', '6:34:24.47 4:08:56.91']\n",
    "# Write these positions to a text file. You have to give a position for axis 3, but this can just be 1\n",
    "filename = 'spectra_positions.txt'\n",
    "with open(filename, 'w') as f:\n",
    "    for i in positions:\n",
    "        f.write(i + ' 1\\n')\n",
    "\n",
    "container = 'container_spectra.sdf'\n",
    "kappa.pluck(in_=cube, axes='vrad', mode='file', coin='spectra_positions.txt', container=True,\n",
    "            out=container, method='linear')"
   ]
  },
  {
   "cell_type": "markdown",
   "metadata": {},
   "source": [
    "We now have a container SDF file, where each spectra is found as `container_spectra.PLUCK_<index>` We can plot these with:"
   ]
  },
  {
   "cell_type": "code",
   "execution_count": 61,
   "metadata": {},
   "outputs": [
    {
     "data": {
      "image/png": "[encoded data removed]",
      "text/plain": [
       "<IPython.core.display.Image object>"
      ]
     },
     "metadata": {},
     "output_type": "display_data"
    },
    {
     "data": {
      "image/png": "[encoded data removed]",
      "text/plain": [
       "<IPython.core.display.Image object>"
      ]
     },
     "metadata": {},
     "output_type": "display_data"
    },
    {
     "data": {
      "image/png": "[encoded data removed]",
      "text/plain": [
       "<IPython.core.display.Image object>"
      ]
     },
     "metadata": {},
     "output_type": "display_data"
    }
   ],
   "source": [
    "for i in range(1,4):\n",
    "    \n",
    "    spectra = container + '.PLUCK_{}'.format(i)\n",
    "    pngname = 'spectra_{}.png'.format(i)\n",
    "    kappa.linplot(spectra, device=pngname+'/PNG', style='^kappa_style.def')\n",
    "    display(Image(pngname))\n",
    "    "
   ]
  },
  {
   "cell_type": "code",
   "execution_count": 62,
   "metadata": {},
   "outputs": [
    {
     "data": {
      "text/plain": [
       "   flabel    ['Right ascension', 'Declination', 'Radio velocity (USB)']\n",
       "     type    _REAL\n",
       "     fdim    [3, 3, 3, 3, 3]\n",
       "   ubound    [1, 1, 939]\n",
       "  exttype    ['_CHAR*80', 'SMURF_EXT', 'PROVENANCE']\n",
       "      ndf    container_spectra.PLUCK_1\n",
       "     dims    [1, 1, 1880]\n",
       "     zero    0.0\n",
       "  history    True\n",
       "    fubnd    [1.721905518363487, 0.0734987236835587, 414.46932447050517]\n",
       "  fullwcs    False\n",
       "  current    5\n",
       "    label    TA*   corrected antenna temperature\n",
       "     form    SIMPLE\n",
       "    units    K\n",
       "  extname    ['FITS', 'SMURF', 'PROVENANCE']\n",
       "    scale    1.0\n",
       "    title    Ros6\n",
       "  quality    False\n",
       " fullaxis    False\n",
       "     ndim    3\n",
       "fullframe    False\n",
       "  fdomain    ['GRID', 'PIXEL', 'AXIS', 'FRACTION', 'SKY-DSBSPECTRUM']\n",
       "    nextn    3\n",
       "   lbound    [1, 1, -940]\n",
       " variance    True\n",
       "      wcs    True\n",
       "   nframe    5\n",
       "fpixscale    ['6.00000', '6.00000', '0.4233065']\n",
       "     axis    False\n",
       "      bad    False\n",
       "    funit    ['hh:mm:ss.s', 'ddd:mm:ss', 'km/s']\n",
       "    flbnd    [1.7218763507955759, 0.07346963485338666, -381.3468284261275]\n",
       "   ftitle    [ Data grid indices; first pixel at (1,1,1)\n",
       "               Pixel coordinates; first pixel at (0.5,0.5,-940.5)\n",
       "               Axis coordinates; first pixel at (0.5,0.5,-940.5)\n",
       "               Normalised pixel coordinates; first pixel at (0.5,0.5,0.0002659574)\n",
       "               3-d compound coordinate system\n",
       "             ]"
      ]
     },
     "execution_count": 62,
     "metadata": {},
     "output_type": "execute_result"
    }
   ],
   "source": [
    "kappa.ndftrace('container_spectra.PLUCK_1')"
   ]
  },
  {
   "cell_type": "markdown",
   "metadata": {},
   "source": [
    "## Coordinate conversions\n",
    "\n",
    "### Convert from RA/Dec to Galactic.\n",
    "\n",
    "This is easily done with `wcsattrib`; just the same as we changed the System from Freq to Vrad at the start of this notebook, we can change from FK5 to Galactic. (We don't have to specify which axis we are changing the System of, as AST is clever enough to know that VRAD can only be applied to the Spectral axis, and that Galactic can only be applied to the Sky axes."
   ]
  },
  {
   "cell_type": "code",
   "execution_count": 63,
   "metadata": {},
   "outputs": [
    {
     "name": "stderr",
     "output_type": "stream",
     "text": [
      "DEBUG:starlink.wrapper:['/Users/sarah/star-2017A/bin/kappa/ndftrace', 'co32_cube.sdf']\n",
      "DEBUG:starlink.wrapper:\n",
      "   NDF structure /Users/sarah/SeoulUsersMeeting/Starlink_Analysis/co32_cube:\n",
      "      Title:  Ros6\n",
      "      Label:  TA*   corrected antenna temperature\n",
      "      Units:  K\n",
      "\n",
      "   Shape:\n",
      "      No. of dimensions:  3\n",
      "      Dimension size(s):  119 x 118 x 1880\n",
      "      Pixel bounds     :  -57:61, -58:59, -940:939\n",
      "      Total pixels     :  26398960\n",
      "\n",
      "   Data Component:\n",
      "      Type        :  _REAL\n",
      "      Storage form:  SIMPLE\n",
      "      Bad pixels may be present\n",
      "\n",
      "   Variance Component:\n",
      "      Type        :  _REAL\n",
      "      Storage form:  SIMPLE\n",
      "      Bad pixels may be present\n",
      "\n",
      "   World Co-ordinate Systems:\n",
      "      Number of co-ordinate Frames: 5\n",
      "\n",
      "      Current co-ordinate Frame (Frame 5):\n",
      "\n",
      "        Frame title         : \"3-d compound coordinate system\"\n",
      "        Domain              : SKY-DSBSPECTRUM\n",
      "        First pixel centre  : 207.3974, -1.7666, -381.1352\n",
      "\n",
      "           Axis 1:\n",
      "              Label              : Galactic longitude\n",
      "              Units              : degrees\n",
      "              Nominal Pixel scale: 5.99999 arc-sec\n",
      "\n",
      "           Axis 2:\n",
      "              Label              : Galactic latitude\n",
      "              Units              : degrees\n",
      "              Nominal Pixel scale: 5.99999 arc-sec\n",
      "\n",
      "           Axis 3:\n",
      "              Label              : Radio velocity (USB)\n",
      "              Units              : km/s\n",
      "              Nominal Pixel scale: 0.4233065 km/s\n",
      "\n",
      "\n",
      "   Extensions:\n",
      "      FITS             <_CHAR*80>\n",
      "      SMURF            <SMURF_EXT>\n",
      "      PROVENANCE       <PROVENANCE>\n",
      "\n",
      "\n",
      "   History Component:\n",
      "      Created    :  2014 Nov 20 09:22:05\n",
      "      No. records:  23\n",
      "      Last update:  2018 Feb 01 06:16:54 (WCSATTRIB       (KAPPA 2.5-5))\n",
      "      Update mode:  NORMAL\n",
      "\n",
      "\n",
      "DEBUG:starlink.wrapper:['/Users/sarah/star-2017A/bin/kappa/ndftrace', 'scuba2_map.sdf']\n",
      "DEBUG:starlink.wrapper:\n",
      "   NDF structure /Users/sarah/SeoulUsersMeeting/Starlink_Analysis/scuba2_map:\n",
      "      Title:  G34.3\n",
      "      Label:  Flux Density\n",
      "      Units:  mJy/beam\n",
      "\n",
      "   Shape:\n",
      "      No. of dimensions:  3\n",
      "      Dimension size(s):  241 x 241 x 1\n",
      "      Pixel bounds     :  -125:115, -106:134, 1:1\n",
      "      Total pixels     :  58081\n",
      "\n",
      "   Data Component:\n",
      "      Type        :  _DOUBLE\n",
      "      Storage form:  SIMPLE\n",
      "      Bad pixels may be present\n",
      "\n",
      "   Variance Component:\n",
      "      Type        :  _DOUBLE\n",
      "      Storage form:  SIMPLE\n",
      "      Bad pixels may be present\n",
      "\n",
      "   Quality Component:\n",
      "      Type        :  _UBYTE\n",
      "      Storage form:  SIMPLE\n",
      "      Bad-bits mask:  0 (binary 00000000)\n",
      "\n",
      "   World Co-ordinate Systems:\n",
      "      Number of co-ordinate Frames: 5\n",
      "\n",
      "      Current co-ordinate Frame (Frame 5):\n",
      "\n",
      "        Frame title         : \"3-d compound coordinate system\"\n",
      "        Domain              : SKY-SPECTRUM\n",
      "        First pixel centre  : 34.215412, -0.025520, 0.00085\n",
      "\n",
      "           Axis 1:\n",
      "              Label              : Galactic longitude\n",
      "              Units              : degrees\n",
      "              Nominal Pixel scale: 3.99999 arc-sec\n",
      "\n",
      "           Axis 2:\n",
      "              Label              : Galactic latitude\n",
      "              Units              : degrees\n",
      "              Nominal Pixel scale: 3.99999 arc-sec\n",
      "\n",
      "           Axis 3:\n",
      "              Label              : Wavelength\n",
      "              Units              : m\n",
      "              Nominal Pixel scale: 7E-05 m\n",
      "\n",
      "\n",
      "   Extensions:\n",
      "      SMURF            <SMURF_EXT>\n",
      "      FITS             <_CHAR*80>\n",
      "      PROVENANCE       <PROVENANCE>\n",
      "\n",
      "\n",
      "   History Component:\n",
      "      Created    :  2018 Jan 15 23:11:39\n",
      "      No. records:  15\n",
      "      Last update:  2018 Feb 01 06:16:54 (WCSATTRIB       (KAPPA 2.5-5))\n",
      "      Update mode:  NORMAL\n",
      "\n",
      "\n"
     ]
    }
   ],
   "source": [
    "kappa.wcsattrib(ndf=cube, mode='set', name='System', newval='Galactic')\n",
    "kappa.wcsattrib(ndf=mapfile, mode='set', name='System', newval='Galactic')\n",
    "logging.root.setLevel('DEBUG')\n",
    "a=kappa.ndftrace(cube)\n",
    "a=kappa.ndftrace(mapfile)\n",
    "logging.root.setLevel('INFO')"
   ]
  },
  {
   "cell_type": "markdown",
   "metadata": {},
   "source": [
    "We can make a plot of this with, and it will be in Galactic Coordinates by default. If we convert to FITS, the resulting FITS file will also be in Galactic Coordinates."
   ]
  },
  {
   "cell_type": "code",
   "execution_count": 64,
   "metadata": {},
   "outputs": [
    {
     "data": {
      "text/plain": [
       "CTYPE1  = 'GLAT-TAN'           / Type of co-ordinate on axis 1                  \n",
       "CTYPE2  = 'GLON-TAN'           / Type of co-ordinate on axis 2                  \n",
       "CTYPE3  = 'WAVE    '           / Type of co-ordinate on axis 3                  "
      ]
     },
     "execution_count": 64,
     "metadata": {},
     "output_type": "execute_result"
    }
   ],
   "source": [
    "convert.ndf2fits(mapfile, '!scuba2_galactic.fits')\n",
    "from astropy.io import fits\n",
    "hdr = fits.getheader('scuba2_galactic.fits')\n",
    "hdr['CTYPE*']\n",
    "\n"
   ]
  },
  {
   "cell_type": "markdown",
   "metadata": {},
   "source": [
    "We will then change our file back to RA/Dec, in case you wish to run this tutorial again."
   ]
  },
  {
   "cell_type": "code",
   "execution_count": 65,
   "metadata": {},
   "outputs": [
    {
     "data": {
      "text/plain": [
       "newval    FK5\n",
       "  name    System\n",
       "  mode    set\n",
       " state    False\n",
       " remap    True\n",
       "   ndf    scuba2_map.sdf\n",
       " value    Compound"
      ]
     },
     "execution_count": 65,
     "metadata": {},
     "output_type": "execute_result"
    }
   ],
   "source": [
    "kappa.wcsattrib(ndf=cube, mode='set', name='System', newval='FK5')\n",
    "kappa.wcsattrib(ndf=mapfile, mode='set', name='System', newval='FK5')"
   ]
  },
  {
   "cell_type": "markdown",
   "metadata": {},
   "source": [
    "## Fitting Spectra\n",
    "\n",
    "**Use  SMURF's `fit1d` to fit spectra to all positions in your cube.**\n",
    " \n",
    "Firstly we define a config file. We will fit a single Gausshermite2 to each spectrum, and mostly use the default values except to set the fitting range to be -12 to 88 km/s. We define our config file as:\n"
   ]
  },
  {
   "cell_type": "code",
   "execution_count": 66,
   "metadata": {},
   "outputs": [
    {
     "name": "stdout",
     "output_type": "stream",
     "text": [
      "^$SMURF_DIR/smurf_fit1d.def\r\n",
      "range=(-12.0,88.0)\r\n"
     ]
    }
   ],
   "source": [
    "with open('fit1d_config.def', 'w') as f:\n",
    "    f.write('^$SMURF_DIR/smurf_fit1d.def\\n')\n",
    "    f.write('range=(-12.0,88.0)\\n')\n",
    "\n",
    "%cat fit1d_config.def"
   ]
  },
  {
   "cell_type": "markdown",
   "metadata": {},
   "source": [
    "Now we can run the [`fit1d`](http://www.starlink.ac.uk/cgi-bin/htxserver/sun258.htx/sun258.html?xref_FIT1D) command:"
   ]
  },
  {
   "cell_type": "code",
   "execution_count": 67,
   "metadata": {},
   "outputs": [
    {
     "name": "stderr",
     "output_type": "stream",
     "text": [
      "DEBUG:starlink.wrapper:['/Users/sarah/star-2017A/bin/smurf/fit1d', 'co32_cube.sdf', 'fittedprofiles.sdf', '!', 'config=^fit1d_config.def']\n",
      "DEBUG:starlink.wrapper:Copying input file 1 to output for fitting...\n",
      "Fitting data using 1 GAUSSHERMITE2(s) over pixel range [873,1109]\n",
      "...Will use 4 threads to fit 14042 profiles.\n",
      "(FitProfileThread   4) ...at profile  11000 -    470 of   3512 (i=20678120)\n",
      "(FitProfileThread   1) ...at profile   1000 -   1000 of   3510 (i= 1878120)\n",
      "(FitProfileThread   4) ...at profile  12000 -   1470 of   3512 (i=22558120)\n",
      "(FitProfileThread   1) ...at profile   2000 -   2000 of   3510 (i= 3758120)\n",
      "(FitProfileThread   4) ...at profile  13000 -   2470 of   3512 (i=24438120)\n",
      "(FitProfileThread   1) ...at profile   3000 -   3000 of   3510 (i= 5638120)\n",
      "(FitProfileThread   4) ...at profile  14000 -   3470 of   3512 (i=26318120)\n",
      "...Writing parameter cubes and finishing up.\n",
      "\n"
     ]
    },
    {
     "data": {
      "text/plain": [
       "   in_    co32_cube.sdf\n",
       "config    ^fit1d_config.def\n",
       "   out    fittedprofiles.sdf"
      ]
     },
     "execution_count": 67,
     "metadata": {},
     "output_type": "execute_result"
    }
   ],
   "source": [
    "from starlink import smurf\n",
    "logging.root.setLevel(logging.DEBUG)\n",
    "smurf.fit1d(in_=cube, out='fittedprofiles.sdf', rms='!', config='^fit1d_config.def')"
   ]
  },
  {
   "cell_type": "markdown",
   "metadata": {},
   "source": [
    "You can create a residual cube to also analyse with `sub`:"
   ]
  },
  {
   "cell_type": "code",
   "execution_count": 68,
   "metadata": {},
   "outputs": [
    {
     "name": "stderr",
     "output_type": "stream",
     "text": [
      "DEBUG:starlink.wrapper:['/Users/sarah/star-2017A/bin/kappa/sub', 'fittedprofiles.sdf', 'co32_cube.sdf', 'residuals.sdf']\n"
     ]
    },
    {
     "data": {
      "text/plain": [
       "in2    co32_cube.sdf\n",
       "out    residuals.sdf\n",
       "in1    fittedprofiles.sdf"
      ]
     },
     "execution_count": 68,
     "metadata": {},
     "output_type": "execute_result"
    }
   ],
   "source": [
    "kappa.sub(in1='fittedprofiles.sdf', in2=cube, out='residuals.sdf' )"
   ]
  },
  {
   "cell_type": "markdown",
   "metadata": {},
   "source": [
    "## Clumpfinding\n",
    "\n",
    "**Task: Use CUPID to find clumps in a SCUBA-2 map.**\n",
    "\n",
    "First of all make a FellWalker parameter file -- see the documentation on CUPID's FINDCLUMPS at http://www.starlink.ac.uk/cgi-bin/htxserver/sun255.htx/sun255.html?xref_FINDCLUMPS for all the available parameters. We're going to find clups that have a peak of at least 5 times the RMS, and we are only going to follow clumps down to 3 times the RMS. We will divide emission into seperate clumps if there is at least a 3 sigma dip between the peaks.\n",
    "\n",
    "All of these are defined on the basis of a single RMS value; If you want to identify clumps based on a varying noise across the map, I would recommend performing your clumpfind on an SNR map, and setting the RMS to a value of 1."
   ]
  },
  {
   "cell_type": "code",
   "execution_count": 69,
   "metadata": {},
   "outputs": [],
   "source": [
    "f = open('fellwalker_params.def', 'w')\n",
    "f.write('\\n'.join(['FellWalker.Noise=3*RMS',\n",
    "                'FellWalker.MinHeight=5*RMS',\n",
    "                'FellWalker.MinDip=3*RMS',]))\n",
    "f.close()"
   ]
  },
  {
   "cell_type": "code",
   "execution_count": 70,
   "metadata": {},
   "outputs": [
    {
     "name": "stdout",
     "output_type": "stream",
     "text": [
      "FellWalker.Noise=3*RMS\r\n",
      "FellWalker.MinHeight=5*RMS\r\n",
      "FellWalker.MinDip=3*RMS"
     ]
    }
   ],
   "source": [
    "%cat fellwalker_params.def"
   ]
  },
  {
   "cell_type": "markdown",
   "metadata": {},
   "source": [
    "Now we will use this parameter value to perform our clumpfinding. We are going to create an output FITS catalogue (`outct=clumpcat.FITS`) as well as our output clump mask, and we are using the `fellwalker` algorithm. Normally, CUPID will default to using the square root of the mean of the variance array of the input map; however, it will only use this after it prompts you to accept that. As it an't prompt you from within Python, if you want to use this default value, you need to pass the magic 'accept' value to the RMS keyword, like so:"
   ]
  },
  {
   "cell_type": "code",
   "execution_count": 71,
   "metadata": {},
   "outputs": [
    {
     "name": "stderr",
     "output_type": "stream",
     "text": [
      "DEBUG:starlink.wrapper:['/Users/sarah/star-2017A/bin/cupid/findclumps', 'scuba2_map.sdf', 'scuba2_clumps.sdf', 'deconv=False', 'rms=accept', 'outcat=clumpcat.FITS', 'method=fellwalker']\n",
      "DEBUG:starlink.wrapper:\n",
      "\n",
      "FellWalker:\n",
      "75 clumps rejected because they contain too few pixels.\n",
      "3 further clumps rejected because they include too many bad pixels.\n",
      "15 usable clumps found.\n",
      "\n",
      "\n",
      "Configuration parameters:\n",
      "   FELLWALKER.ALLOWEDGE=1\n",
      "   FELLWALKER.CLEANITER=1\n",
      "   FELLWALKER.DUMPPEAK=0\n",
      "   FELLWALKER.DUMPWALK=-1\n",
      "   FELLWALKER.FLATSLOPE=65.207128531233\n",
      "   FELLWALKER.FWHMBEAM=2\n",
      "   FELLWALKER.MAXBAD=0.05\n",
      "   FELLWALKER.MAXJUMP=4\n",
      "   FELLWALKER.MINDIP=130.414257062466\n",
      "   FELLWALKER.MINHEIGHT=130.414257062466\n",
      "   FELLWALKER.MINPIX=7\n",
      "   FELLWALKER.NOISE=130.414257062466\n",
      "   FELLWALKER.RMS=65.207128531233\n",
      "\n",
      "\n",
      "\n"
     ]
    },
    {
     "name": "stdout",
     "output_type": "stream",
     "text": [
      "backoff    True\n",
      "  shape    NONE\n",
      "    in_    scuba2_map.sdf\n",
      "nclumps    15\n",
      " deconv    False\n",
      "    rms    65.207128531233\n",
      " outcat    clumpcat.FITS\n",
      "    out    scuba2_clumps.sdf\n",
      "repconf    True\n",
      " method    fellwalker\n",
      " wcspar    True\n"
     ]
    }
   ],
   "source": [
    "from starlink import cupid\n",
    "clumpfile = 'scuba2_clumps.sdf'\n",
    "findclumps = cupid.findclumps(mapfile, out=clumpfile, outcat='clumpcat.FITS',\n",
    "                              method='fellwalker', deconv=False, rms='accept')\n",
    "print(findclumps)"
   ]
  },
  {
   "cell_type": "markdown",
   "metadata": {},
   "source": [
    "Alternatively you can measure the default RMS with stats, and directly give that value as a float:"
   ]
  },
  {
   "cell_type": "code",
   "execution_count": 72,
   "metadata": {},
   "outputs": [
    {
     "name": "stderr",
     "output_type": "stream",
     "text": [
      "DEBUG:starlink.wrapper:['/Users/sarah/star-2017A/bin/kappa/stats', 'scuba2_map.sdf', 'comp=VARIANCE']\n",
      "DEBUG:starlink.wrapper:\n",
      "   Pixel statistics for the NDF structure /Users/sarah/SeoulUsersMeeting/Starlink_Analysis/scuba2_map\n",
      "\n",
      "      Title                     : G34.3\n",
      "      NDF array analysed        : VARIANCE\n",
      "\n",
      "         Pixel sum              : 169857682.031761\n",
      "         Pixel mean             : 4251.96961128869\n",
      "         Standard deviation     : 16891.3343391067\n",
      "         Skewness               : 23.4329521701514\n",
      "         Kurtosis               : 1282.05352108669\n",
      "         Minimum pixel value    : 113.181068377439\n",
      "            At pixel            : (-3, 23, 1)\n",
      "            Co-ordinate         : (18:53:19.667, 1:16:26.30, 0.00085)\n",
      "         Maximum pixel value    : 1339352.8589341\n",
      "            At pixel            : (-13, 122, 1)\n",
      "            Co-ordinate         : (18:53:22.334, 1:23:02.30, 0.00085)\n",
      "         Total number of pixels : 58081\n",
      "         Number of pixels used  : 39948 (68.8%)\n",
      "         No. of pixels excluded : 18133 (31.2%)\n",
      "\n",
      "\n"
     ]
    },
    {
     "name": "stdout",
     "output_type": "stream",
     "text": [
      "65.2071285312326\n"
     ]
    }
   ],
   "source": [
    "rmsval = np.sqrt(kappa.stats(mapfile, comp='VARIANCE').mean)\n",
    "print(rmsval)"
   ]
  },
  {
   "cell_type": "markdown",
   "metadata": {},
   "source": [
    "The output file `scuba2_clumps.sdf` is a mask file, where every pixel inside a clump has a value of the clump ID. Every pixel not in a clump is set bad. It looks like:"
   ]
  },
  {
   "cell_type": "code",
   "execution_count": 73,
   "metadata": {},
   "outputs": [
    {
     "name": "stderr",
     "output_type": "stream",
     "text": [
      "DEBUG:starlink.wrapper:['/Users/sarah/star-2017A/bin/kappa/lutable', 'linear', 'external', '$KAPPA_DIR/warm_lut', 'device=/PNG']\n",
      "DEBUG:starlink.wrapper:['/Users/sarah/star-2017A/bin/kappa/display', 'scuba2_clumps.sdf', 'low=1', 'key=True', 'high=15', 'mode=scale', 'keystyle=^kappa_style.def', 'badcol=grey', 'device=clumps.png/PNG', 'style=^kappa_style.def']\n"
     ]
    },
    {
     "data": {
      "image/png": "[encoded data removed]",
      "text/plain": [
       "<IPython.core.display.Image object>"
      ]
     },
     "metadata": {},
     "output_type": "display_data"
    }
   ],
   "source": [
    "kappa.lutable(mapping='linear', coltab='external', lut='$KAPPA_DIR/warm_lut', device='/PNG')\n",
    "kappa.display(clumpfile, device='clumps.png/PNG', mode='scale',\n",
    "              low=1, high=findclumps.nclumps, key=True, badcol='grey',\n",
    "             style='^kappa_style.def', keystyle='^kappa_style.def')\n",
    "display(Image('clumps.png'))"
   ]
  },
  {
   "cell_type": "markdown",
   "metadata": {},
   "source": [
    "This is a mask file where every pixel inside a clump has a value of the clump ID. Every pixel not in a clump is set bad.\n",
    "\n",
    "You can also see the actual data values from the original clumps in the `CUPID.CLUMPS` extension array. You can access and view these with the: \n",
    "`<ndfname>.MORE.CUPID.CLUMPS(<clump_index>)` syntax. E.g., to display the 3rd Clump (the indexing starts at 1) you could do:"
   ]
  },
  {
   "cell_type": "code",
   "execution_count": 74,
   "metadata": {},
   "outputs": [
    {
     "name": "stderr",
     "output_type": "stream",
     "text": [
      "DEBUG:starlink.wrapper:['/Users/sarah/star-2017A/bin/kappa/display', 'scuba2_clumps.sdf.MORE.CUPID.CLUMPS(3)', 'key=True', 'keystyle=^kappa_style.def', 'style=^kappa_style.def', 'mode=faint', 'badcol=grey', 'device=clump3.png/PNG']\n",
      "DEBUG:starlink.wrapper:Data will be scaled from 64.8516301199062 to 3578.63410082303.\n",
      "\n"
     ]
    },
    {
     "name": "stdout",
     "output_type": "stream",
     "text": [
      "scuba2_clumps.sdf.MORE.CUPID.CLUMPS(3)\n"
     ]
    },
    {
     "data": {
      "image/png": "[encoded data removed]",
      "text/plain": [
       "<IPython.core.display.Image object>"
      ]
     },
     "metadata": {},
     "output_type": "display_data"
    }
   ],
   "source": [
    "clumpname = clumpfile + '.MORE.CUPID.CLUMPS(3)'\n",
    "print(clumpname)\n",
    "kappa.display(clumpname, device='clump3.png/PNG', mode='faint', key=True, badcol='grey',\n",
    "             style='^kappa_style.def', keystyle='^kappa_style.def')\n",
    "display(Image('clump3.png'))"
   ]
  },
  {
   "cell_type": "markdown",
   "metadata": {},
   "source": [
    "You can also copy them out with `ndfcopy`:"
   ]
  },
  {
   "cell_type": "code",
   "execution_count": 75,
   "metadata": {},
   "outputs": [
    {
     "name": "stderr",
     "output_type": "stream",
     "text": [
      "DEBUG:starlink.wrapper:['/Users/sarah/star-2017A/bin/kappa/ndfcopy', 'scuba2_clumps.sdf.MORE.CUPID.CLUMPS(3)', 'clump3.sdf']\n",
      "DEBUG:starlink.wrapper:['/Users/sarah/star-2017A/bin/kappa/stats', 'clump3.sdf']\n",
      "DEBUG:starlink.wrapper:\n",
      "   Pixel statistics for the NDF structure /Users/sarah/SeoulUsersMeeting/Starlink_Analysis/clump3\n",
      "\n",
      "      Title                     : <undefined>\n",
      "      NDF array analysed        : DATA\n",
      "\n",
      "         Pixel sum              : 217760.157629768\n",
      "         Pixel mean             : 504.074438957797\n",
      "         Standard deviation     : 438.714150784008\n",
      "         Skewness               : 2.38409274894807\n",
      "         Kurtosis               : 6.9119204657463\n",
      "         Minimum pixel value    : 57.7234087070525\n",
      "            At pixel            : (-21, -28)\n",
      "            Co-ordinate         : (-21.5, -28.5)\n",
      "         Maximum pixel value    : 2856.87137464058\n",
      "            At pixel            : (-10, -19)\n",
      "            Co-ordinate         : (-10.5, -19.5)\n",
      "         Total number of pixels : 700\n",
      "         Number of pixels used  : 432 (61.7%)\n",
      "         No. of pixels excluded : 268 (38.3%)\n",
      "\n",
      "\n"
     ]
    },
    {
     "data": {
      "text/plain": [
       "  minwcs    -21.5, -28.5\n",
       "maxcoord    [-10.5, -19.5]\n",
       " maximum    2856.8713746405797\n",
       "skewness    2.3840927489480688\n",
       "   order    False\n",
       "  numbad    268\n",
       "kurtosis    6.911920465746302\n",
       "    mean    504.07443895779653\n",
       "  numpix    700\n",
       "  maxpos    [-10, -19]\n",
       " numgood    432\n",
       "  minpos    [-21, -28]\n",
       " minimum    57.72340870705253\n",
       "   sigma    438.71415078400764\n",
       "    comp    DATA\n",
       "   total    217760.15762976825\n",
       "mincoord    [-21.5, -28.5]\n",
       "  maxwcs    -10.5, -19.5\n",
       "     ndf    clump3.sdf"
      ]
     },
     "execution_count": 75,
     "metadata": {},
     "output_type": "execute_result"
    }
   ],
   "source": [
    "kappa.ndfcopy(clumpfile + '.MORE.CUPID.CLUMPS(3)', out='clump3.sdf')\n",
    "kappa.stats('clump3.sdf')"
   ]
  },
  {
   "cell_type": "markdown",
   "metadata": {},
   "source": [
    "Note that if you use GaussClumps the output maps are slightly different, as that algorithm fits Gaussians and subtracts them rather than merely assigning pixels entirely to one pixel or another. Please see the documentation for more details.\n",
    "\n",
    "## Beamfit\n",
    "Another extremely useful command is KAPPA's `beamfit`. This has a few quirks of usage.\n",
    "\n",
    "First of all, when you provide the initial position this is surprisingly supplied as a `string`, rather than a vector, and therefore KAPPA actually requires an extra set of quotes around it rather annoyingly. \n",
    "\n",
    "We will first of all use `stats` to identify the peak of our map, so that we can fit a beam to it."
   ]
  },
  {
   "cell_type": "code",
   "execution_count": 76,
   "metadata": {},
   "outputs": [
    {
     "name": "stderr",
     "output_type": "stream",
     "text": [
      "DEBUG:starlink.wrapper:['/Users/sarah/star-2017A/bin/kappa/stats', 'scuba2_map.sdf']\n",
      "DEBUG:starlink.wrapper:\n",
      "   Pixel statistics for the NDF structure /Users/sarah/SeoulUsersMeeting/Starlink_Analysis/scuba2_map\n",
      "\n",
      "      Title                     : G34.3\n",
      "      NDF array analysed        : DATA\n",
      "\n",
      "         Pixel sum              : 3818111.21756118\n",
      "         Pixel mean             : 95.5770305787818\n",
      "         Standard deviation     : 887.221109188862\n",
      "         Skewness               : 29.1078653182233\n",
      "         Kurtosis               : 1147.2814951589\n",
      "         Minimum pixel value    : -800.101899601974\n",
      "            At pixel            : (-102, -10, 1)\n",
      "            Co-ordinate         : (18:53:46.073, 1:14:14.29, 0.00085)\n",
      "         Maximum pixel value    : 48378.6498812848\n",
      "            At pixel            : (0, 0, 1)\n",
      "            Co-ordinate         : (18:53:18.867, 1:14:54.30, 0.00085)\n",
      "         Total number of pixels : 58081\n",
      "         Number of pixels used  : 39948 (68.8%)\n",
      "         No. of pixels excluded : 18133 (31.2%)\n",
      "\n",
      "\n"
     ]
    },
    {
     "name": "stdout",
     "output_type": "stream",
     "text": [
      "[-1.3381681735838045, 0.021788981266010584, 0.00085]\n"
     ]
    }
   ],
   "source": [
    "stats=kappa.stats(mapfile)\n",
    "print(stats.maxcoord)"
   ]
  },
  {
   "cell_type": "markdown",
   "metadata": {},
   "source": [
    "`stats` will report angular coordinate positions in radians. As we have set our map to be in FK5 coordinates, we need to alter this to be Hours in RA and Degress in Dec. We can use the Astropy coordinates module to do this conversion:"
   ]
  },
  {
   "cell_type": "code",
   "execution_count": 77,
   "metadata": {},
   "outputs": [
    {
     "name": "stdout",
     "output_type": "stream",
     "text": [
      "[-1.3381681735838045, 0.021788981266010584]\n",
      "18h53m18.8667s 1d14m54.3s\n"
     ]
    }
   ],
   "source": [
    "maxcoord = stats.maxcoord[0:2]\n",
    "print(maxcoord)\n",
    "\n",
    "import astropy.coordinates as coord\n",
    "import  astropy.units as u\n",
    "co = coord.FK5(ra = maxcoord[0]*u.rad, dec = maxcoord[1]*u.rad)\n",
    "ra = str(co.ra.to(u.hourangle))\n",
    "dec = str(co.dec.to(u.degree))\n",
    "print(ra, dec)"
   ]
  },
  {
   "cell_type": "markdown",
   "metadata": {},
   "source": [
    "We can now run `beamfit` using this position as our initial guess. We will fit a single Gaussian via:"
   ]
  },
  {
   "cell_type": "code",
   "execution_count": 78,
   "metadata": {},
   "outputs": [
    {
     "name": "stderr",
     "output_type": "stream",
     "text": [
      "DEBUG:starlink.wrapper:['/Users/sarah/star-2017A/bin/kappa/beamfit', 'scuba2_map.sdf', 'pos=\"18h53m18.8667s,1d14m54.3s\"', 'mode=interface']\n",
      "DEBUG:starlink.wrapper:    Co-ordinates    : RA(hh:mm:ss.sss) Dec(ddd:mm:ss.ss)\n",
      "\n",
      "    Centre          : (18:53:18.702,1:14:55.79) +/- (0.025,0.024) arcsec\n",
      "    Offset          : 2.940 +/- 0.024 arcseconds from sky reference position\n",
      "    FWHM (major)    : 24.048 +/- 0.059 arcseconds\n",
      "    FWHM (minor)    : 21.769 +/- 0.056 arcseconds\n",
      "    Orientation     : 28.98 +/- 0.184E-01 degrees (measured from North through East)\n",
      "    Amplitude       : 37894.5539155129 +/- 95.0890507005049\n",
      "    Background      : 60.4092577565704 +/- 1.45244707634456\n",
      "    Shape exponent  : 2.000\n",
      "\n",
      "    RMS fit error   : 289.74273447272\n",
      "\n",
      "\n",
      "\n"
     ]
    },
    {
     "name": "stdout",
     "output_type": "stream",
     "text": [
      "  refoff    ['0:00:02.9', '0:00:00.0']\n",
      "describe    False\n",
      "  fixpos    False\n",
      "  centre    ['18:53:18.702 1:14:55.8', '0:00:00.002 0:00:00.0']\n",
      "     sum    1404876.214279612\n",
      "  orient    [28.981223569687966, 1.0530309752461156]\n",
      " fixfwhm    False\n",
      "   gauss    True\n",
      "circular    False\n",
      "  fixsep    False\n",
      "     rms    289.74274\n",
      "   gamma    [2.0, -1.7976931348623157e+308]\n",
      "     pos    18h53m18.8667s,1d14m54.3s\n",
      "    mode    interface\n",
      "     amp    [37894.553915512886, 95.08905070050488]\n",
      " majfwhm    [0.00011658585872160135, 2.882985184175776e-07]\n",
      "variance    False\n",
      "     ndf    scuba2_map.sdf\n",
      "    back    [60.409257756570405, 1.4524470763445612]\n",
      " minfwhm    [0.00010554087246950134, 2.711394365974823e-07]\n"
     ]
    }
   ],
   "source": [
    "logging.root.setLevel('DEBUG')\n",
    "beamfit = kappa.beamfit(mapfile, pos='\"{},{}\"'.format(ra, dec),mode='interface')\n",
    "print(beamfit)"
   ]
  },
  {
   "cell_type": "markdown",
   "metadata": {},
   "source": [
    "To determine what units the outputs are in, please see the KAPPA BEAMFIT documentation: http://www.starlink.ac.uk/cgi-bin/htxserver/sun95.htx/sun95.html?xref_BEAMFIT . Most of the outputs report both the fitted value and the error on that fit. \n",
    "\n",
    "The string return value `centre` is returned in the formated string of the current WCS frame of the input NDF (here, galactic coordinates in degrees). On the other hand, the FWHM values as floats `minfwhm` and `maxfwhm` are reported in radians.\n"
   ]
  },
  {
   "cell_type": "code",
   "execution_count": 79,
   "metadata": {},
   "outputs": [
    {
     "name": "stdout",
     "output_type": "stream",
     "text": [
      "CENTRE value is ['18:53:18.702 1:14:55.8', '0:00:00.002 0:00:00.0']\n",
      "FWHM fits. MAJ:  1.17E-04±2.88E-07, MIN:  1.06E-04±2.71E-07 radians\n",
      "in arcsec. MAJ:  2.40E+01±5.95E-02 \", MIN:  2.18E+01±5.59E-02 \"\n"
     ]
    }
   ],
   "source": [
    "print('CENTRE value is {}'.format(beamfit.centre))\n",
    "\n",
    "print('FWHM fits. MAJ:  {:.2E}±{:.2E}, MIN:  {:.2E}±{:.2E} radians'.format(*beamfit.majfwhm, *beamfit.minfwhm))\n",
    "\n",
    "majfwhm = 60.0*60.0*np.rad2deg(np.array(beamfit.majfwhm))\n",
    "minfwhm = 60.0*60.0*np.rad2deg(np.array(beamfit.minfwhm))\n",
    "print('in arcsec. MAJ:  {:.2E}±{:.2E} \", MIN:  {:.2E}±{:.2E} \"'.format(*majfwhm, *minfwhm))"
   ]
  }
 ],
 "metadata": {
  "kernelspec": {
   "display_name": "Python 3",
   "language": "python",
   "name": "python3"
  },
  "language_info": {
   "codemirror_mode": {
    "name": "ipython",
    "version": 3
   },
   "file_extension": ".py",
   "mimetype": "text/x-python",
   "name": "python",
   "nbconvert_exporter": "python",
   "pygments_lexer": "ipython3",
   "version": "3.5.1"
  }
 },
 "nbformat": 4,
 "nbformat_minor": 2
}
